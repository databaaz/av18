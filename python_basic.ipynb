{
 "cells": [
  {
   "cell_type": "markdown",
   "metadata": {},
   "source": [
    "# Python Basics Refresher"
   ]
  },
  {
   "cell_type": "markdown",
   "metadata": {},
   "source": [
    "## Lists"
   ]
  },
  {
   "cell_type": "markdown",
   "metadata": {},
   "source": [
    "### 1. Slicing"
   ]
  },
  {
   "cell_type": "code",
   "execution_count": 2,
   "metadata": {},
   "outputs": [
    {
     "name": "stdout",
     "output_type": "stream",
     "text": [
      "[1, 2, 3, 4, 5, 6, 7, 8, 9, 10]\n",
      "[3, 4, 5, 6, 7]\n",
      "[4, 5, 6]\n",
      "[3, 5, 7]\n",
      "[9, 7, 5]\n",
      "[6, 7, 8, 9, 10]\n",
      "[10, 9, 8, 7, 6, 5, 4, 3, 2, 1]\n",
      "[10, 9, 8, 7, 6, 5, 4, 3, 2, 1]\n"
     ]
    }
   ],
   "source": [
    "l1 = list(range(1,11))\n",
    "print(l1)\n",
    "print(l1[2:-3])\n",
    "print(l1[-7:-4])\n",
    "print(l1[-8:-2:2])\n",
    "print(l1[-2:-8:-2])\n",
    "print(l1[-5:])\n",
    "print(l1[-1:-11:-1]) #can omit first/second operand here as well\n",
    "print(l1[::-1])"
   ]
  },
  {
   "cell_type": "markdown",
   "metadata": {},
   "source": [
    "### 2. enumerate"
   ]
  },
  {
   "cell_type": "code",
   "execution_count": 3,
   "metadata": {},
   "outputs": [
    {
     "name": "stdout",
     "output_type": "stream",
     "text": [
      "1 Mechanical\n",
      "2 IT\n",
      "3 INST\n",
      "4 CSE\n",
      "5 IT\n",
      "6 EXTC\n"
     ]
    }
   ],
   "source": [
    "branches = ['Mechanical', 'IT', 'INST', 'CSE', 'IT', 'EXTC']\n",
    "for index, branch in enumerate(branches, start=1):\n",
    "    print(index, branch)\n",
    "    "
   ]
  },
  {
   "cell_type": "markdown",
   "metadata": {},
   "source": [
    "## Sets"
   ]
  },
  {
   "cell_type": "markdown",
   "metadata": {},
   "source": [
    "### 1. Set creation"
   ]
  },
  {
   "cell_type": "code",
   "execution_count": 4,
   "metadata": {},
   "outputs": [
    {
     "name": "stdout",
     "output_type": "stream",
     "text": [
      "{'EXTC', 'Mechanical', 'Math', 'IT', 'Management', 'CS'}\n",
      "True\n"
     ]
    }
   ],
   "source": [
    "science_branches = {'Mechanical', 'IT', 'Management', 'CS', 'IT', 'EXTC', 'Math', 'IT'}\n",
    "print(science_branches)\n",
    "print('CS' in science_branches) #in operation optimized for sets"
   ]
  },
  {
   "cell_type": "code",
   "execution_count": 5,
   "metadata": {},
   "outputs": [],
   "source": [
    "commerce_branches = {'Finance', 'Management','CS','Math', 'Sales'}"
   ]
  },
  {
   "cell_type": "code",
   "execution_count": 6,
   "metadata": {},
   "outputs": [
    {
     "name": "stdout",
     "output_type": "stream",
     "text": [
      "set()\n"
     ]
    }
   ],
   "source": [
    "empty = set() #not {} - that's an empty dictionary\n",
    "print(empty)"
   ]
  },
  {
   "cell_type": "markdown",
   "metadata": {},
   "source": [
    "### 2. Set Operations"
   ]
  },
  {
   "cell_type": "code",
   "execution_count": 7,
   "metadata": {},
   "outputs": [
    {
     "name": "stdout",
     "output_type": "stream",
     "text": [
      "{'Management', 'CS', 'Math'}\n"
     ]
    }
   ],
   "source": [
    "print(science_branches.intersection(commerce_branches))"
   ]
  },
  {
   "cell_type": "code",
   "execution_count": 8,
   "metadata": {},
   "outputs": [
    {
     "name": "stdout",
     "output_type": "stream",
     "text": [
      "{'IT', 'Mechanical', 'EXTC'}\n"
     ]
    }
   ],
   "source": [
    "print(science_branches.difference(commerce_branches))"
   ]
  },
  {
   "cell_type": "code",
   "execution_count": 9,
   "metadata": {},
   "outputs": [
    {
     "name": "stdout",
     "output_type": "stream",
     "text": [
      "{'EXTC', 'Mechanical', 'Math', 'IT', 'Management', 'CS', 'Sales', 'Finance'}\n"
     ]
    }
   ],
   "source": [
    "print(science_branches.union(commerce_branches))"
   ]
  },
  {
   "cell_type": "markdown",
   "metadata": {},
   "source": [
    "## Dictionaries"
   ]
  },
  {
   "cell_type": "markdown",
   "metadata": {},
   "source": [
    "### 1. Creation"
   ]
  },
  {
   "cell_type": "code",
   "execution_count": 2,
   "metadata": {
    "ExecuteTime": {
     "end_time": "2018-08-14T11:21:03.931376Z",
     "start_time": "2018-08-14T11:21:03.924751Z"
    }
   },
   "outputs": [
    {
     "name": "stdout",
     "output_type": "stream",
     "text": [
      "{'name': 'Ashwin', 'age': 25, 'course': ['comp sci', 'economics'], 5: (1, 2)}\n"
     ]
    }
   ],
   "source": [
    "student = {'name': 'Ashwin', 'age':25, 'course':['comp sci', 'economics'], 5: (1,2)}\n",
    "print(student)\n",
    "del student[5]"
   ]
  },
  {
   "cell_type": "markdown",
   "metadata": {},
   "source": [
    "### 2. Access elements"
   ]
  },
  {
   "cell_type": "code",
   "execution_count": 11,
   "metadata": {},
   "outputs": [
    {
     "name": "stdout",
     "output_type": "stream",
     "text": [
      "Ashwin\n"
     ]
    },
    {
     "ename": "KeyError",
     "evalue": "'phone'",
     "output_type": "error",
     "traceback": [
      "\u001b[0;31m---------------------------------------------------------------------------\u001b[0m",
      "\u001b[0;31mKeyError\u001b[0m                                  Traceback (most recent call last)",
      "\u001b[0;32m<ipython-input-11-69c22b66adab>\u001b[0m in \u001b[0;36m<module>\u001b[0;34m()\u001b[0m\n\u001b[1;32m      1\u001b[0m \u001b[0;31m# intuitive way\u001b[0m\u001b[0;34m\u001b[0m\u001b[0;34m\u001b[0m\u001b[0m\n\u001b[1;32m      2\u001b[0m \u001b[0mprint\u001b[0m\u001b[0;34m(\u001b[0m\u001b[0mstudent\u001b[0m\u001b[0;34m[\u001b[0m\u001b[0;34m'name'\u001b[0m\u001b[0;34m]\u001b[0m\u001b[0;34m)\u001b[0m\u001b[0;34m\u001b[0m\u001b[0m\n\u001b[0;32m----> 3\u001b[0;31m \u001b[0mprint\u001b[0m\u001b[0;34m(\u001b[0m\u001b[0mstudent\u001b[0m\u001b[0;34m[\u001b[0m\u001b[0;34m'phone'\u001b[0m\u001b[0;34m]\u001b[0m\u001b[0;34m)\u001b[0m\u001b[0;34m\u001b[0m\u001b[0m\n\u001b[0m",
      "\u001b[0;31mKeyError\u001b[0m: 'phone'"
     ]
    }
   ],
   "source": [
    "# intuitive way\n",
    "print(student['name'])\n",
    "print(student['phone'])"
   ]
  },
  {
   "cell_type": "code",
   "execution_count": 3,
   "metadata": {
    "ExecuteTime": {
     "end_time": "2018-08-14T11:21:07.759568Z",
     "start_time": "2018-08-14T11:21:07.750657Z"
    }
   },
   "outputs": [
    {
     "name": "stdout",
     "output_type": "stream",
     "text": [
      "Not found\n"
     ]
    }
   ],
   "source": [
    "# Better way\n",
    "print(student.get('phone', 'Not found'))"
   ]
  },
  {
   "cell_type": "markdown",
   "metadata": {},
   "source": [
    "### 3. Add,update and delete"
   ]
  },
  {
   "cell_type": "code",
   "execution_count": 16,
   "metadata": {},
   "outputs": [],
   "source": [
    "student['phone'] = '2222-2222'"
   ]
  },
  {
   "cell_type": "code",
   "execution_count": 17,
   "metadata": {},
   "outputs": [
    {
     "name": "stdout",
     "output_type": "stream",
     "text": [
      "{'name': 'Ashwin', 'age': 25, 'course': ['comp sci', 'economics'], 'phone': '2222-2222'}\n",
      "{'name': 'Ashwin', 'age': 25, 'course': ['comp sci', 'economics']}\n"
     ]
    }
   ],
   "source": [
    "print(student)\n",
    "del student['phone']\n",
    "print(student)"
   ]
  },
  {
   "cell_type": "code",
   "execution_count": 18,
   "metadata": {},
   "outputs": [],
   "source": [
    "# update with another dictionary\n",
    "student_new = {'name': 'Anurag', 'age': 21, 'phone':'5555-5555'}\n",
    "student.update(student_new)"
   ]
  },
  {
   "cell_type": "code",
   "execution_count": 20,
   "metadata": {},
   "outputs": [
    {
     "data": {
      "text/plain": [
       "{'name': 'Anurag',\n",
       " 'age': 21,\n",
       " 'course': ['comp sci', 'economics'],\n",
       " 'phone': '5555-5555'}"
      ]
     },
     "execution_count": 20,
     "metadata": {},
     "output_type": "execute_result"
    }
   ],
   "source": [
    "student"
   ]
  },
  {
   "cell_type": "code",
   "execution_count": 21,
   "metadata": {
    "scrolled": true
   },
   "outputs": [
    {
     "name": "stdout",
     "output_type": "stream",
     "text": [
      "21\n"
     ]
    }
   ],
   "source": [
    "age = student.pop('age')\n",
    "print(age)"
   ]
  },
  {
   "cell_type": "markdown",
   "metadata": {},
   "source": [
    "### 4. Unpacking Generalization - merge 2 dictionaries"
   ]
  },
  {
   "cell_type": "code",
   "execution_count": 4,
   "metadata": {
    "ExecuteTime": {
     "end_time": "2018-08-14T11:25:20.001334Z",
     "start_time": "2018-08-14T11:25:19.990029Z"
    }
   },
   "outputs": [
    {
     "name": "stdout",
     "output_type": "stream",
     "text": [
      "{'a': 1, 'b': 2, 'c': 3, 'd': 4}\n",
      "{'a': 9, 'b': 10}\n"
     ]
    }
   ],
   "source": [
    "d1 = {'a':1, 'b':2}\n",
    "d2 = {'c':3, 'd':4}\n",
    "z1 = {**d1, **d2} #alternate to update\n",
    "print(z1)\n",
    "\n",
    "## Overlapping keys - merged left to right and overwrite\n",
    "d3 = {'a':9, 'b':10}\n",
    "z2 = {**d1, **d3}\n",
    "print(z2)\n"
   ]
  },
  {
   "cell_type": "markdown",
   "metadata": {},
   "source": [
    "### 5. Sort By Value"
   ]
  },
  {
   "cell_type": "code",
   "execution_count": 38,
   "metadata": {},
   "outputs": [
    {
     "name": "stdout",
     "output_type": "stream",
     "text": [
      "[('c', 10), ('d', 50), ('b', 90), ('a', 100)]\n"
     ]
    }
   ],
   "source": [
    "d1 = {'a':100, 'b':90, 'c':10, 'd':50}\n",
    "print(sorted(d1.items(), key= lambda x: x[1]))"
   ]
  },
  {
   "cell_type": "markdown",
   "metadata": {},
   "source": [
    "## Extra"
   ]
  },
  {
   "cell_type": "markdown",
   "metadata": {},
   "source": [
    "### 1. is operator"
   ]
  },
  {
   "cell_type": "code",
   "execution_count": 22,
   "metadata": {},
   "outputs": [
    {
     "name": "stdout",
     "output_type": "stream",
     "text": [
      "False\n"
     ]
    }
   ],
   "source": [
    "a=1,2,3\n",
    "b=1,2,3\n",
    "print(a is b)"
   ]
  },
  {
   "cell_type": "code",
   "execution_count": 23,
   "metadata": {},
   "outputs": [
    {
     "name": "stdout",
     "output_type": "stream",
     "text": [
      "140063111918504 140063112383656\n"
     ]
    }
   ],
   "source": [
    "print(id(a), id(b))"
   ]
  },
  {
   "cell_type": "code",
   "execution_count": 26,
   "metadata": {},
   "outputs": [
    {
     "name": "stdout",
     "output_type": "stream",
     "text": [
      "True\n"
     ]
    }
   ],
   "source": [
    "b = a\n",
    "print(a is b) ## id(a)==id(b)"
   ]
  },
  {
   "cell_type": "code",
   "execution_count": 27,
   "metadata": {},
   "outputs": [
    {
     "name": "stdout",
     "output_type": "stream",
     "text": [
      "140063111918504 140063111918504\n"
     ]
    }
   ],
   "source": [
    "print(id(a), id(b))"
   ]
  },
  {
   "cell_type": "markdown",
   "metadata": {},
   "source": [
    "### 2. False Values"
   ]
  },
  {
   "cell_type": "markdown",
   "metadata": {},
   "source": [
    "The following values evaluate to False in Python\n",
    "- False\n",
    "- None\n",
    "- Zero (any numeric type)\n",
    "- Empty sequence - (), [], ' '\n",
    "- Empty mapping - {}  \n",
    "**Everything else evaluates to True**"
   ]
  },
  {
   "cell_type": "code",
   "execution_count": 28,
   "metadata": {},
   "outputs": [
    {
     "name": "stdout",
     "output_type": "stream",
     "text": [
      "Inside False\n"
     ]
    }
   ],
   "source": [
    "condition = None\n",
    "if condition:\n",
    "    print('Inside True')\n",
    "else:\n",
    "    print('Inside False')"
   ]
  },
  {
   "cell_type": "code",
   "execution_count": 29,
   "metadata": {},
   "outputs": [
    {
     "name": "stdout",
     "output_type": "stream",
     "text": [
      "Inside False\n"
     ]
    }
   ],
   "source": [
    "condition = 0.0\n",
    "if condition:\n",
    "    print('Inside True')\n",
    "else:\n",
    "    print('Inside False')"
   ]
  },
  {
   "cell_type": "code",
   "execution_count": 31,
   "metadata": {},
   "outputs": [
    {
     "name": "stdout",
     "output_type": "stream",
     "text": [
      "Inside False\n",
      "Inside True\n"
     ]
    }
   ],
   "source": [
    "condition = ''\n",
    "if condition:\n",
    "    print('Inside True')\n",
    "else:\n",
    "    print('Inside False')\n",
    "condition = []    \n",
    "if not condition:\n",
    "    print('Inside True')\n",
    "else:\n",
    "    print('Inside False')"
   ]
  },
  {
   "cell_type": "markdown",
   "metadata": {},
   "source": [
    "Everything else evaluates to True"
   ]
  },
  {
   "cell_type": "code",
   "execution_count": 32,
   "metadata": {},
   "outputs": [
    {
     "name": "stdout",
     "output_type": "stream",
     "text": [
      "Inside True\n"
     ]
    }
   ],
   "source": [
    "condition = [1,2,3]\n",
    "if condition:\n",
    "    print('Inside True')\n",
    "else:\n",
    "    print('Inside False')"
   ]
  },
  {
   "cell_type": "markdown",
   "metadata": {},
   "source": [
    "## Files"
   ]
  },
  {
   "cell_type": "markdown",
   "metadata": {},
   "source": [
    " - Use context managers to work with files as it automatically closes the file.\n",
    " - If we use traditional way (using open method), there could be leakage if we don't close and we might get error thrown at us if the number of file descriptors reaches the max limit.\n",
    " - The file handler is still accessible after closing the file but we cannot read the file now."
   ]
  },
  {
   "cell_type": "code",
   "execution_count": 53,
   "metadata": {},
   "outputs": [
    {
     "name": "stdout",
     "output_type": "stream",
     "text": [
      "av.yml\n",
      "r\n",
      "True\n"
     ]
    }
   ],
   "source": [
    "with open('av.yml') as f:\n",
    "    print(f.name)\n",
    "    print(f.mode)\n",
    "print(f.closed)  "
   ]
  },
  {
   "cell_type": "code",
   "execution_count": 55,
   "metadata": {},
   "outputs": [
    {
     "name": "stdout",
     "output_type": "stream",
     "text": [
      "name: av\n",
      "channels:\n",
      "    - https://conda.anaconda.org/menpo\n",
      "    - conda-forge\n",
      "dependencies:\n",
      "    - python==3.7.0\n",
      "    - matplotlib==2.2.2\n",
      "    - numpy==1.15.0\n",
      "    - pandas==0.23.3\n",
      "    - jupyter\n",
      "\n"
     ]
    }
   ],
   "source": [
    "with open('av.yml') as f:\n",
    "    content = f.read()\n",
    "    print(content)"
   ]
  },
  {
   "cell_type": "markdown",
   "metadata": {},
   "source": [
    "- The read() method is good if we want to read small files\n",
    "- But if the file size is too big, we may run out of memory\n",
    "- we can use methods to read one line at a time:\n",
    "    - use readline() method\n",
    "    - use for loop on file descriptor to iterate over the lines - one at a time"
   ]
  },
  {
   "cell_type": "code",
   "execution_count": 60,
   "metadata": {},
   "outputs": [
    {
     "name": "stdout",
     "output_type": "stream",
     "text": [
      "name: av\n",
      "\n",
      "channels:\n",
      "\n"
     ]
    }
   ],
   "source": [
    "with open('av.yml') as f:\n",
    "    line = f.readline()\n",
    "    print(line)\n",
    "    line = f.readline()\n",
    "    print(line)"
   ]
  },
  {
   "cell_type": "code",
   "execution_count": 59,
   "metadata": {},
   "outputs": [
    {
     "name": "stdout",
     "output_type": "stream",
     "text": [
      "name: av\n",
      "channels:\n",
      "    - https://conda.anaconda.org/menpo\n",
      "    - conda-forge\n",
      "dependencies:\n",
      "    - python==3.7.0\n",
      "    - matplotlib==2.2.2\n",
      "    - numpy==1.15.0\n",
      "    - pandas==0.23.3\n",
      "    - jupyter\n"
     ]
    }
   ],
   "source": [
    "with open('av.yml') as f:\n",
    "    for line in f:\n",
    "        print(line, end='')"
   ]
  },
  {
   "cell_type": "markdown",
   "metadata": {},
   "source": [
    "- Get more control on read by specifying chunksize to read each time:"
   ]
  },
  {
   "cell_type": "code",
   "execution_count": 66,
   "metadata": {},
   "outputs": [
    {
     "name": "stdout",
     "output_type": "stream",
     "text": [
      "name: av\n",
      "channels:\n",
      "    - https\n",
      "://conda.anaconda.org/menpo\n",
      "  \n"
     ]
    }
   ],
   "source": [
    "with open('av.yml') as f:\n",
    "    chunksize = 30\n",
    "    block = f.read(chunksize)\n",
    "    print(block)\n",
    "    block = f.read(chunksize)\n",
    "    print(block)"
   ]
  },
  {
   "cell_type": "markdown",
   "metadata": {},
   "source": [
    "Once it reaches end of file, it will return empty string.\n",
    " - We might not know exact file size, here's a more efficient implementations:"
   ]
  },
  {
   "cell_type": "code",
   "execution_count": 68,
   "metadata": {},
   "outputs": [
    {
     "name": "stdout",
     "output_type": "stream",
     "text": [
      "name: av\n",
      "channels:\n",
      "    - https*://conda.anaconda.org/menpo\n",
      "  *  - conda-forge\n",
      "dependencies:\n",
      "*    - python==3.7.0\n",
      "    - matp*lotlib==2.2.2\n",
      "    - numpy==1.1*5.0\n",
      "    - pandas==0.23.3\n",
      "    -* jupyter\n",
      "*"
     ]
    }
   ],
   "source": [
    "with open('av.yml') as f:\n",
    "    chunksize = 30\n",
    "    block = f.read(chunksize)\n",
    "    while(len(block)>0):\n",
    "        print(block,end='*')\n",
    "        block = f.read(chunksize)        "
   ]
  },
  {
   "cell_type": "markdown",
   "metadata": {},
   "source": [
    "We can also manipulate positions of pointer in the file:"
   ]
  },
  {
   "cell_type": "code",
   "execution_count": 70,
   "metadata": {},
   "outputs": [
    {
     "name": "stdout",
     "output_type": "stream",
     "text": [
      "name: av\n",
      "c\n",
      "10\n"
     ]
    }
   ],
   "source": [
    "with open('av.yml') as f:\n",
    "    chunksize = 10\n",
    "    block = f.read(chunksize)\n",
    "    print(block)\n",
    "    print(f.tell())"
   ]
  },
  {
   "cell_type": "code",
   "execution_count": 78,
   "metadata": {},
   "outputs": [
    {
     "name": "stdout",
     "output_type": "stream",
     "text": [
      "name: av\n",
      "c*name: av\n",
      "c*nnels:\n",
      "   *"
     ]
    }
   ],
   "source": [
    "with open('av.yml') as f:\n",
    "    chunksize = 10\n",
    "    block = f.read(chunksize)\n",
    "    print(block,end='*')\n",
    "    f.seek(0)\n",
    "    block = f.read(chunksize)\n",
    "    print(block,end='*')\n",
    "    f.seek(f.tell()+2)\n",
    "    block = f.read(chunksize)\n",
    "    print(block,end='*')"
   ]
  },
  {
   "cell_type": "markdown",
   "metadata": {},
   "source": [
    "- FILE  MODES:\n",
    "    - r: read\n",
    "    - w: write\n",
    "    - r+: read/write\n",
    "    - a: append\n",
    "    - rb, wb, ab: read/write/append in binary mode file"
   ]
  },
  {
   "cell_type": "code",
   "execution_count": 80,
   "metadata": {},
   "outputs": [],
   "source": [
    "with open('av.yml') as rf, open('av_test.yml','w') as wf:\n",
    "    for line in rf:\n",
    "        wf.write(line)"
   ]
  },
  {
   "cell_type": "markdown",
   "metadata": {},
   "source": [
    "- For large files or binary files, it is neither feasible to read one line at a time(IO operations more costly) nor to read all at once.\n",
    "- So we read in chunks."
   ]
  },
  {
   "cell_type": "code",
   "execution_count": null,
   "metadata": {
    "ExecuteTime": {
     "start_time": "2018-08-05T13:32:34.992Z"
    }
   },
   "outputs": [],
   "source": [
    "with open('python_basic.ipynb') as rf, open('python_basic_test.ipynb','w') as wf:\n",
    "    chunksize = 2000\n",
    "    chunk = rf.read(chunksize)\n",
    "    while len(chunk) > 0:\n",
    "        wf.write(chunk)\n",
    "        chunk = rf.read(chunksize)"
   ]
  },
  {
   "cell_type": "code",
   "execution_count": null,
   "metadata": {
    "ExecuteTime": {
     "start_time": "2018-08-05T13:32:36.939Z"
    }
   },
   "outputs": [],
   "source": [
    "with open('python_basic.ipynb') as rf, open('python_basic_test.ipynb','w') as wf:\n",
    "    for l in rf:\n",
    "        wf.write(l)"
   ]
  },
  {
   "cell_type": "markdown",
   "metadata": {},
   "source": [
    "**Match the execution time of above 2 approaches**"
   ]
  },
  {
   "cell_type": "markdown",
   "metadata": {},
   "source": [
    "## OS Module - interacting with the OS"
   ]
  },
  {
   "cell_type": "code",
   "execution_count": 8,
   "metadata": {
    "ExecuteTime": {
     "end_time": "2018-08-14T11:49:16.180038Z",
     "start_time": "2018-08-14T11:49:16.174893Z"
    }
   },
   "outputs": [],
   "source": [
    "import os"
   ]
  },
  {
   "cell_type": "markdown",
   "metadata": {},
   "source": [
    "### Working with directory"
   ]
  },
  {
   "cell_type": "code",
   "execution_count": 19,
   "metadata": {
    "ExecuteTime": {
     "end_time": "2018-08-14T11:56:34.572804Z",
     "start_time": "2018-08-14T11:56:34.558290Z"
    }
   },
   "outputs": [
    {
     "name": "stdout",
     "output_type": "stream",
     "text": [
      "/home/ubuntu/Documents\n",
      "/home/ubuntu/Downloads\n"
     ]
    }
   ],
   "source": [
    "print(os.getcwd()) #present working directory\n",
    "os.chdir('/home/ubuntu/Downloads/') #change directory\n",
    "print(os.getcwd())"
   ]
  },
  {
   "cell_type": "code",
   "execution_count": 20,
   "metadata": {
    "ExecuteTime": {
     "end_time": "2018-08-14T11:56:49.520060Z",
     "start_time": "2018-08-14T11:56:49.507650Z"
    }
   },
   "outputs": [
    {
     "data": {
      "text/plain": [
       "['setup.sh', 'README.md', 'scripts']"
      ]
     },
     "execution_count": 20,
     "metadata": {},
     "output_type": "execute_result"
    }
   ],
   "source": [
    "os.listdir('./scripts/') #contents of working directory"
   ]
  },
  {
   "cell_type": "code",
   "execution_count": 83,
   "metadata": {
    "ExecuteTime": {
     "end_time": "2018-08-14T13:29:14.591757Z",
     "start_time": "2018-08-14T13:29:14.586881Z"
    }
   },
   "outputs": [],
   "source": [
    "os.chdir('/home/ubuntu/Documents/av_2018/')\n",
    "os.mkdir('temp')"
   ]
  },
  {
   "cell_type": "code",
   "execution_count": 84,
   "metadata": {
    "ExecuteTime": {
     "end_time": "2018-08-14T13:29:14.781537Z",
     "start_time": "2018-08-14T13:29:14.776823Z"
    },
    "scrolled": true
   },
   "outputs": [
    {
     "data": {
      "text/plain": [
       "['av_test.yml',\n",
       " '.ipynb_checkpoints',\n",
       " '.git',\n",
       " 'python_basic.ipynb',\n",
       " 'temp',\n",
       " '.gitignore',\n",
       " 'av.yml']"
      ]
     },
     "execution_count": 84,
     "metadata": {},
     "output_type": "execute_result"
    }
   ],
   "source": [
    "os.listdir()"
   ]
  },
  {
   "cell_type": "markdown",
   "metadata": {},
   "source": [
    "Creating directory with sublevels"
   ]
  },
  {
   "cell_type": "code",
   "execution_count": 85,
   "metadata": {
    "ExecuteTime": {
     "end_time": "2018-08-14T13:29:16.728013Z",
     "start_time": "2018-08-14T13:29:16.723033Z"
    }
   },
   "outputs": [],
   "source": [
    "os.makedirs('temp2/subdir1/subdir3') #More preferable"
   ]
  },
  {
   "cell_type": "code",
   "execution_count": 86,
   "metadata": {
    "ExecuteTime": {
     "end_time": "2018-08-14T13:29:17.599135Z",
     "start_time": "2018-08-14T13:29:17.576588Z"
    }
   },
   "outputs": [
    {
     "name": "stdout",
     "output_type": "stream",
     "text": [
      "['av_test.yml', '.ipynb_checkpoints', '.git', 'python_basic.ipynb', 'temp2', 'temp', '.gitignore', 'av.yml']\n"
     ]
    },
    {
     "data": {
      "text/plain": [
       "['subdir1']"
      ]
     },
     "execution_count": 86,
     "metadata": {},
     "output_type": "execute_result"
    }
   ],
   "source": [
    "print(os.listdir())\n",
    "os.listdir('temp2')"
   ]
  },
  {
   "cell_type": "code",
   "execution_count": 87,
   "metadata": {
    "ExecuteTime": {
     "end_time": "2018-08-14T13:29:21.350208Z",
     "start_time": "2018-08-14T13:29:21.346521Z"
    }
   },
   "outputs": [],
   "source": [
    "#Removing directories\n",
    "os.rmdir('temp') #doesn't delete non-empty directories - more preferable\n",
    "os.removedirs('temp2/subdir1/subdir3/') #deletes entire tree along with intermediate directories"
   ]
  },
  {
   "cell_type": "code",
   "execution_count": 88,
   "metadata": {
    "ExecuteTime": {
     "end_time": "2018-08-14T13:29:23.237924Z",
     "start_time": "2018-08-14T13:29:23.232603Z"
    }
   },
   "outputs": [
    {
     "data": {
      "text/plain": [
       "['av_test.yml',\n",
       " '.ipynb_checkpoints',\n",
       " '.git',\n",
       " 'python_basic.ipynb',\n",
       " '.gitignore',\n",
       " 'av.yml']"
      ]
     },
     "execution_count": 88,
     "metadata": {},
     "output_type": "execute_result"
    }
   ],
   "source": [
    "os.listdir()"
   ]
  },
  {
   "cell_type": "code",
   "execution_count": 89,
   "metadata": {
    "ExecuteTime": {
     "end_time": "2018-08-14T13:29:39.481426Z",
     "start_time": "2018-08-14T13:29:39.478223Z"
    }
   },
   "outputs": [],
   "source": [
    "os.makedirs('temp')\n",
    "os.rename('temp', 'temp10')"
   ]
  },
  {
   "cell_type": "code",
   "execution_count": 91,
   "metadata": {
    "ExecuteTime": {
     "end_time": "2018-08-14T13:29:58.969253Z",
     "start_time": "2018-08-14T13:29:58.963579Z"
    }
   },
   "outputs": [],
   "source": [
    "os.listdir()\n",
    "os.rmdir('temp10')"
   ]
  },
  {
   "cell_type": "markdown",
   "metadata": {},
   "source": [
    "### File Stats: (helps in webapps to track timestamps of modifed files)"
   ]
  },
  {
   "cell_type": "code",
   "execution_count": 92,
   "metadata": {
    "ExecuteTime": {
     "end_time": "2018-08-14T13:30:13.422667Z",
     "start_time": "2018-08-14T13:30:13.411550Z"
    }
   },
   "outputs": [
    {
     "data": {
      "text/plain": [
       "os.stat_result(st_mode=33204, st_ino=31330495, st_dev=2051, st_nlink=1, st_uid=1000, st_gid=1000, st_size=189, st_atime=1533443685, st_mtime=1533443681, st_ctime=1533443681)"
      ]
     },
     "execution_count": 92,
     "metadata": {},
     "output_type": "execute_result"
    }
   ],
   "source": [
    "os.stat('./av.yml')"
   ]
  },
  {
   "cell_type": "code",
   "execution_count": 93,
   "metadata": {
    "ExecuteTime": {
     "end_time": "2018-08-14T13:30:26.868470Z",
     "start_time": "2018-08-14T13:30:26.864288Z"
    }
   },
   "outputs": [
    {
     "name": "stdout",
     "output_type": "stream",
     "text": [
      "Last Modified time: 2018-08-05 10:04:41.045577\n"
     ]
    }
   ],
   "source": [
    "from datetime import datetime\n",
    "modified_time = os.stat('av.yml').st_mtime\n",
    "print('Last Modified time:',datetime.fromtimestamp(modified_time))"
   ]
  },
  {
   "cell_type": "markdown",
   "metadata": {},
   "source": [
    "### Traversing Directory tree\n"
   ]
  },
  {
   "cell_type": "code",
   "execution_count": 94,
   "metadata": {
    "ExecuteTime": {
     "end_time": "2018-08-14T13:30:33.129159Z",
     "start_time": "2018-08-14T13:30:33.123068Z"
    }
   },
   "outputs": [
    {
     "data": {
      "text/plain": [
       "<generator object walk at 0x7f14bc63b8e0>"
      ]
     },
     "execution_count": 94,
     "metadata": {},
     "output_type": "execute_result"
    }
   ],
   "source": [
    "directory_path = '/home/ubuntu/Documents/'\n",
    "os.walk(directory_path) # generator object - dir_path, subdirs, files"
   ]
  },
  {
   "cell_type": "code",
   "execution_count": 95,
   "metadata": {
    "ExecuteTime": {
     "end_time": "2018-08-14T13:30:34.422353Z",
     "start_time": "2018-08-14T13:30:33.917323Z"
    }
   },
   "outputs": [
    {
     "name": "stdout",
     "output_type": "stream",
     "text": [
      "Current Path: /home/ubuntu/Documents/\n",
      "Directories: ['av_2018', '.ipynb_checkpoints', 'python4ds', 'temp10']\n",
      "Files: ['import_data.pdf', 'TensorFlow Tutorial For Beginners.ipynb', 'pandas_practice.ipynb', 'sklearn_cs.png', '2702d58a-2dca-4135-a10c-2328377d2ff4-original.jpeg', '46c3de34-0c01-41ac-b934-24e0dc012ee2-original.jpeg']\n",
      "\n",
      "Current Path: /home/ubuntu/Documents/av_2018\n",
      "Directories: ['.ipynb_checkpoints', '.git']\n",
      "Files: ['av_test.yml', 'python_basic.ipynb', '.gitignore', 'av.yml']\n",
      "\n",
      "Current Path: /home/ubuntu/Documents/av_2018/.ipynb_checkpoints\n",
      "Directories: []\n",
      "Files: ['PythonForDataScience-checkpoint.ipynb', 'python_basic-checkpoint.ipynb']\n",
      "\n",
      "Current Path: /home/ubuntu/Documents/av_2018/.git\n",
      "Directories: ['hooks', 'info', 'branches', 'refs', 'objects', 'logs']\n",
      "Files: ['index', 'config', 'description', 'ORIG_HEAD', 'FETCH_HEAD', 'HEAD']\n",
      "\n",
      "Current Path: /home/ubuntu/Documents/av_2018/.git/hooks\n",
      "Directories: []\n",
      "Files: ['prepare-commit-msg.sample', 'pre-commit.sample', 'update.sample', 'pre-applypatch.sample', 'pre-receive.sample', 'applypatch-msg.sample', 'fsmonitor-watchman.sample', 'pre-push.sample', 'commit-msg.sample', 'post-update.sample', 'pre-rebase.sample']\n",
      "\n",
      "Current Path: /home/ubuntu/Documents/av_2018/.git/info\n",
      "Directories: []\n",
      "Files: ['exclude']\n",
      "\n",
      "Current Path: /home/ubuntu/Documents/av_2018/.git/branches\n",
      "Directories: []\n",
      "Files: []\n",
      "\n",
      "Current Path: /home/ubuntu/Documents/av_2018/.git/refs\n",
      "Directories: ['tags', 'remotes', 'heads']\n",
      "Files: []\n",
      "\n",
      "Current Path: /home/ubuntu/Documents/av_2018/.git/refs/tags\n",
      "Directories: []\n",
      "Files: []\n",
      "\n",
      "Current Path: /home/ubuntu/Documents/av_2018/.git/refs/remotes\n",
      "Directories: ['origin']\n",
      "Files: []\n",
      "\n",
      "Current Path: /home/ubuntu/Documents/av_2018/.git/refs/remotes/origin\n",
      "Directories: []\n",
      "Files: ['master']\n",
      "\n",
      "Current Path: /home/ubuntu/Documents/av_2018/.git/refs/heads\n",
      "Directories: []\n",
      "Files: ['master']\n",
      "\n",
      "Current Path: /home/ubuntu/Documents/av_2018/.git/objects\n",
      "Directories: ['info', '90', 'pack', 'db', 'f9', '06', '89', 'a2', '4b']\n",
      "Files: []\n",
      "\n",
      "Current Path: /home/ubuntu/Documents/av_2018/.git/objects/info\n",
      "Directories: []\n",
      "Files: []\n",
      "\n",
      "Current Path: /home/ubuntu/Documents/av_2018/.git/objects/90\n",
      "Directories: []\n",
      "Files: ['a01769a94b92239d70f8d1fe46eea48d3aa446']\n",
      "\n",
      "Current Path: /home/ubuntu/Documents/av_2018/.git/objects/pack\n",
      "Directories: []\n",
      "Files: []\n",
      "\n",
      "Current Path: /home/ubuntu/Documents/av_2018/.git/objects/db\n",
      "Directories: []\n",
      "Files: ['3a549a4a89cfb33642048b525f9ab7212d0b62']\n",
      "\n",
      "Current Path: /home/ubuntu/Documents/av_2018/.git/objects/f9\n",
      "Directories: []\n",
      "Files: ['af4efebc184f3940cb2d6a9505517f25467fa1']\n",
      "\n",
      "Current Path: /home/ubuntu/Documents/av_2018/.git/objects/06\n",
      "Directories: []\n",
      "Files: ['18569e0e18e45f710c69dae2c6193be55f565a']\n",
      "\n",
      "Current Path: /home/ubuntu/Documents/av_2018/.git/objects/89\n",
      "Directories: []\n",
      "Files: ['4a44cc066a027465cd26d634948d56d13af9af']\n",
      "\n",
      "Current Path: /home/ubuntu/Documents/av_2018/.git/objects/a2\n",
      "Directories: []\n",
      "Files: ['f3c494ac0a38fea527860ebcbabfe6bb3f4f71']\n",
      "\n",
      "Current Path: /home/ubuntu/Documents/av_2018/.git/objects/4b\n",
      "Directories: []\n",
      "Files: ['a03af44a82e773bcf0b175469d5a73fb9422d6']\n",
      "\n",
      "Current Path: /home/ubuntu/Documents/av_2018/.git/logs\n",
      "Directories: ['refs']\n",
      "Files: ['HEAD']\n",
      "\n",
      "Current Path: /home/ubuntu/Documents/av_2018/.git/logs/refs\n",
      "Directories: ['remotes', 'heads']\n",
      "Files: []\n",
      "\n",
      "Current Path: /home/ubuntu/Documents/av_2018/.git/logs/refs/remotes\n",
      "Directories: ['origin']\n",
      "Files: []\n",
      "\n",
      "Current Path: /home/ubuntu/Documents/av_2018/.git/logs/refs/remotes/origin\n",
      "Directories: []\n",
      "Files: ['master']\n",
      "\n",
      "Current Path: /home/ubuntu/Documents/av_2018/.git/logs/refs/heads\n",
      "Directories: []\n",
      "Files: ['master']\n",
      "\n",
      "Current Path: /home/ubuntu/Documents/.ipynb_checkpoints\n",
      "Directories: []\n",
      "Files: ['TensorFlow Tutorial For Beginners-checkpoint.ipynb']\n",
      "\n",
      "Current Path: /home/ubuntu/Documents/python4ds\n",
      "Directories: ['.ipynb_checkpoints', '.git']\n",
      "Files: ['readme_pandas.txt', 'Sharad.ipynb', 'Python4DataScience_Sejal.ipynb', 'rohitpuzzle.ipynb', 'Python4DS_adi.ipynb', 'factorial_sum_ram.ipynb', 'jawad_python4ds.ipynb', '.gitignore', 'prathamesh_python4ds.ipynb', 'readme_pandas_unclean.md', 'README.md', 'afzal.ipynb', 'Mudassir_Three_Digits_Equals_Sum_Factorial_Digits.ipynb', 'PythonForDataScience_Sahiba.ipynb', 'danish.ipynb', 'vijendra.ipynb', 'PythonForDataScience_Shahbaz.ipynb', 'Python4DataScience_Mudassir.ipynb']\n",
      "\n",
      "Current Path: /home/ubuntu/Documents/python4ds/.ipynb_checkpoints\n",
      "Directories: []\n",
      "Files: ['PythonForDataScience_Shahbaz-checkpoint.ipynb']\n",
      "\n",
      "Current Path: /home/ubuntu/Documents/python4ds/.git\n",
      "Directories: ['hooks', 'info', 'branches', 'refs', 'objects', 'logs']\n",
      "Files: ['index', 'config', 'description', 'packed-refs', 'COMMIT_EDITMSG', 'ORIG_HEAD', 'FETCH_HEAD', 'HEAD']\n",
      "\n",
      "Current Path: /home/ubuntu/Documents/python4ds/.git/hooks\n",
      "Directories: []\n",
      "Files: ['prepare-commit-msg.sample', 'pre-commit.sample', 'update.sample', 'pre-applypatch.sample', 'pre-receive.sample', 'applypatch-msg.sample', 'fsmonitor-watchman.sample', 'pre-push.sample', 'commit-msg.sample', 'post-update.sample', 'pre-rebase.sample']\n",
      "\n",
      "Current Path: /home/ubuntu/Documents/python4ds/.git/info\n",
      "Directories: []\n",
      "Files: ['exclude']\n",
      "\n",
      "Current Path: /home/ubuntu/Documents/python4ds/.git/branches\n",
      "Directories: []\n",
      "Files: []\n",
      "\n",
      "Current Path: /home/ubuntu/Documents/python4ds/.git/refs\n",
      "Directories: ['tags', 'remotes', 'heads']\n",
      "Files: []\n",
      "\n",
      "Current Path: /home/ubuntu/Documents/python4ds/.git/refs/tags\n",
      "Directories: []\n",
      "Files: []\n",
      "\n",
      "Current Path: /home/ubuntu/Documents/python4ds/.git/refs/remotes\n",
      "Directories: ['origin']\n",
      "Files: []\n",
      "\n",
      "Current Path: /home/ubuntu/Documents/python4ds/.git/refs/remotes/origin\n",
      "Directories: []\n",
      "Files: ['master', 'HEAD']\n",
      "\n",
      "Current Path: /home/ubuntu/Documents/python4ds/.git/refs/heads\n",
      "Directories: []\n",
      "Files: ['master']\n",
      "\n",
      "Current Path: /home/ubuntu/Documents/python4ds/.git/objects\n",
      "Directories: ['3f', 'f4', '41', '0b', '49', '15', '61', '48', '75', '62', '14', '79', '39', 'e7', '84', 'd2', 'd8', 'e5', 'eb', '4a', 'info', '8b', '9e', 'fa', '83', 'a4', '66', '82', 'cd', 'a1', '33', 'e6', 'ac', 'c0', '9b', '98', '22', 'e2', '94', '3a', '90', '3b', '68', 'c3', 'pack', 'be', 'bb', 'ba', 'ed', 'db', 'a0', '45', 'f1', 'fd', '2e', '63', '58', '50', '09', '95', 'f9', 'e1', '3c', '2f', '5e', '18', '81', '0f', 'a8', '34', 'cb', 'ec', '9a', '73', '08', '1e', 'ca', '21', '85', '1b', '6b', '6d', 'b4', 'ff', '60', 'ef', '89', '42', 'a3', 'b0', '64', 'a2', 'bc', '2b', '4b', '01', '05', '6a', '47', '70', '4d', '8c', '0a', 'da', '5f', 'd1', '44', '4c', 'f8', '27']\n",
      "Files: []\n",
      "\n",
      "Current Path: /home/ubuntu/Documents/python4ds/.git/objects/3f\n",
      "Directories: []\n",
      "Files: ['0fb19488b5549e48658ecac5c04373a61edd78']\n",
      "\n",
      "Current Path: /home/ubuntu/Documents/python4ds/.git/objects/f4\n",
      "Directories: []\n",
      "Files: ['d36fe990bfcea7e7d321abe1936727467e172a']\n",
      "\n",
      "Current Path: /home/ubuntu/Documents/python4ds/.git/objects/41\n",
      "Directories: []\n",
      "Files: ['198d9e405e0f53460db78b2897a7be3fc75195']\n",
      "\n",
      "Current Path: /home/ubuntu/Documents/python4ds/.git/objects/0b\n",
      "Directories: []\n",
      "Files: ['d4a569d1d877d360941754ecf6b4347b48ad30', '0b1f26430d17ed8ed3bfbcbf60a7db808f36bb', '7e250d9b1fb7917e08be596bc93bd541edcb59', '6e3e65d40db2dc08aa560fb46bcab9bef4bb0d']\n",
      "\n",
      "Current Path: /home/ubuntu/Documents/python4ds/.git/objects/49\n",
      "Directories: []\n",
      "Files: ['d61ba8b0865bba25da2159d60ee52262cc8488']\n",
      "\n",
      "Current Path: /home/ubuntu/Documents/python4ds/.git/objects/15\n",
      "Directories: []\n",
      "Files: ['2e2f6a86003dd548f19585e91b03132631d0c0']\n",
      "\n",
      "Current Path: /home/ubuntu/Documents/python4ds/.git/objects/61\n",
      "Directories: []\n",
      "Files: ['e2c7700fbd18cbc306cdf7202576767b749a4a', '520e835b8ef684b8ed5f5fb264992410e69fc2']\n",
      "\n",
      "Current Path: /home/ubuntu/Documents/python4ds/.git/objects/48\n",
      "Directories: []\n",
      "Files: ['f1ee6adcfeea9b0537ce8281d24127b7c3ca7f']\n",
      "\n",
      "Current Path: /home/ubuntu/Documents/python4ds/.git/objects/75\n",
      "Directories: []\n",
      "Files: ['507c967dedcfaf6cd7cedd0aedb5b8dc52962f', '74c83bb4707e29a20a47727870255e9ce21dcb', '9c1d39ed76dd299ebd13fc67f16775b06d0094']\n",
      "\n",
      "Current Path: /home/ubuntu/Documents/python4ds/.git/objects/62\n",
      "Directories: []\n",
      "Files: ['0c943efa5c0609df84f66faa3ab150f379bb86']\n",
      "\n",
      "Current Path: /home/ubuntu/Documents/python4ds/.git/objects/14\n",
      "Directories: []\n",
      "Files: ['0d4f304ca6a37fa256812045e4eeb6657173c3']\n",
      "\n",
      "Current Path: /home/ubuntu/Documents/python4ds/.git/objects/79\n",
      "Directories: []\n",
      "Files: ['8cdf76c85992148ca2f6de530bb516a99a7ac3']\n",
      "\n",
      "Current Path: /home/ubuntu/Documents/python4ds/.git/objects/39\n",
      "Directories: []\n",
      "Files: ['5f58cc3d037c53a973aeaaae9cb717c2c0347b']\n",
      "\n",
      "Current Path: /home/ubuntu/Documents/python4ds/.git/objects/e7\n",
      "Directories: []\n",
      "Files: ['1aad84336fd8f818ff9c0628f35b0e65e31391', '36f4c59c4a143be12fecbee9fe754576477dca']\n",
      "\n",
      "Current Path: /home/ubuntu/Documents/python4ds/.git/objects/84\n",
      "Directories: []\n",
      "Files: ['7f957d2c31a3e8784f154639330d4697d1d27a']\n",
      "\n",
      "Current Path: /home/ubuntu/Documents/python4ds/.git/objects/d2\n",
      "Directories: []\n",
      "Files: ['20de12444c798909c77c9cc6566be225370d9f']\n",
      "\n",
      "Current Path: /home/ubuntu/Documents/python4ds/.git/objects/d8\n",
      "Directories: []\n",
      "Files: ['db7c23e3b8c3c651bcfaa2e8e2ce0ac06c74a6']\n",
      "\n",
      "Current Path: /home/ubuntu/Documents/python4ds/.git/objects/e5\n",
      "Directories: []\n",
      "Files: ['c0f391fcc970a91e56d4827c05b1e927553852']\n",
      "\n",
      "Current Path: /home/ubuntu/Documents/python4ds/.git/objects/eb\n",
      "Directories: []\n",
      "Files: ['121cb227e9c5fab4f2843d537bf02c38f3a69b', '64d351bd084bf9a5e0ffee7c48baa2823ed08a']\n",
      "\n",
      "Current Path: /home/ubuntu/Documents/python4ds/.git/objects/4a\n",
      "Directories: []\n",
      "Files: ['c72a9202c05c503471fdeab9ad3bfd9a1b0286']\n",
      "\n",
      "Current Path: /home/ubuntu/Documents/python4ds/.git/objects/info\n",
      "Directories: []\n",
      "Files: []\n",
      "\n",
      "Current Path: /home/ubuntu/Documents/python4ds/.git/objects/8b\n",
      "Directories: []\n",
      "Files: ['3bdbc732ba93a3ccf0aba8cfe3fe028b7dba1a', 'd3f2c8d870fddbda825424132a7b5924bb60a6']\n",
      "\n",
      "Current Path: /home/ubuntu/Documents/python4ds/.git/objects/9e\n",
      "Directories: []\n",
      "Files: ['bfd4552d8dca821791f5c3a11681111cc607f6', '780e581ee9d29d18ddffabdbe1598923011b88']\n",
      "\n",
      "Current Path: /home/ubuntu/Documents/python4ds/.git/objects/fa\n",
      "Directories: []\n",
      "Files: ['0b4d99bd2b05586dfc4374347afc553d83434e']\n",
      "\n",
      "Current Path: /home/ubuntu/Documents/python4ds/.git/objects/83\n",
      "Directories: []\n",
      "Files: ['ae11795b83b366a2512acac1627d20a9731c81', 'aa553de599d6faef5c13c9ad17d5f135944ffb', '7084b0f33f06f6d398b1b05798101148581b8b']\n",
      "\n",
      "Current Path: /home/ubuntu/Documents/python4ds/.git/objects/a4\n",
      "Directories: []\n",
      "Files: ['b98561cc0613901fe9673388febeae9f18efe7']\n",
      "\n",
      "Current Path: /home/ubuntu/Documents/python4ds/.git/objects/66\n",
      "Directories: []\n",
      "Files: ['7c68fdd95f71f5abf9ca8b3a2d14f1b10886ae', '1f4859b9d855de64addd5b183bf015d6a42e76']\n",
      "\n",
      "Current Path: /home/ubuntu/Documents/python4ds/.git/objects/82\n",
      "Directories: []\n",
      "Files: ['9eef480ff669e8e6b71bb5a34166e2846bdd4e']\n",
      "\n",
      "Current Path: /home/ubuntu/Documents/python4ds/.git/objects/cd\n",
      "Directories: []\n",
      "Files: ['98fb6b46465ca49929ed87aee35d0b04d62a25']\n",
      "\n",
      "Current Path: /home/ubuntu/Documents/python4ds/.git/objects/a1\n",
      "Directories: []\n",
      "Files: ['68f14dbd54fa32aa00a95d489f33285fe58040']\n",
      "\n",
      "Current Path: /home/ubuntu/Documents/python4ds/.git/objects/33\n",
      "Directories: []\n",
      "Files: ['b04347043614d8d09021f83db8caad2e6e6704']\n",
      "\n",
      "Current Path: /home/ubuntu/Documents/python4ds/.git/objects/e6\n",
      "Directories: []\n",
      "Files: ['9de29bb2d1d6434b8b29ae775ad8c2e48c5391']\n",
      "\n",
      "Current Path: /home/ubuntu/Documents/python4ds/.git/objects/ac\n",
      "Directories: []\n",
      "Files: ['9333f490cd769ec5e31609daab1801f645c66b']\n",
      "\n",
      "Current Path: /home/ubuntu/Documents/python4ds/.git/objects/c0\n",
      "Directories: []\n",
      "Files: ['e1c5cf8ee7e7b9af388ad9348b168d5c39cf19', '681d3fdfe367136fe11d2a0bda7d65bb9900b4']\n",
      "\n"
     ]
    },
    {
     "name": "stdout",
     "output_type": "stream",
     "text": [
      "Current Path: /home/ubuntu/Documents/python4ds/.git/objects/9b\n",
      "Directories: []\n",
      "Files: ['f4c5576a845f0dd73baf7f50e78fcb1c05cb75']\n",
      "\n",
      "Current Path: /home/ubuntu/Documents/python4ds/.git/objects/98\n",
      "Directories: []\n",
      "Files: ['37c49ccb6eaea5a56682b609094bbc3d338fd1']\n",
      "\n",
      "Current Path: /home/ubuntu/Documents/python4ds/.git/objects/22\n",
      "Directories: []\n",
      "Files: ['212be989571e08a2880a32d296497e9f0b7126']\n",
      "\n",
      "Current Path: /home/ubuntu/Documents/python4ds/.git/objects/e2\n",
      "Directories: []\n",
      "Files: ['9039283a3b36929b6d539aa1a542db22e7a4c0']\n",
      "\n",
      "Current Path: /home/ubuntu/Documents/python4ds/.git/objects/94\n",
      "Directories: []\n",
      "Files: ['d4e1996ea659427e4c9b8d500684ffb0894f3f']\n",
      "\n",
      "Current Path: /home/ubuntu/Documents/python4ds/.git/objects/3a\n",
      "Directories: []\n",
      "Files: ['3dde8212c8eddfae67bddec62ebf1dc00cb8a3']\n",
      "\n",
      "Current Path: /home/ubuntu/Documents/python4ds/.git/objects/90\n",
      "Directories: []\n",
      "Files: ['8dfbb23edfb4192d9b1b2c45175c07e64c9cb4']\n",
      "\n",
      "Current Path: /home/ubuntu/Documents/python4ds/.git/objects/3b\n",
      "Directories: []\n",
      "Files: ['81271ff86400532a211ee748fce74699dfba0c']\n",
      "\n",
      "Current Path: /home/ubuntu/Documents/python4ds/.git/objects/68\n",
      "Directories: []\n",
      "Files: ['e3c9d6d7209d4b89a872f14b67977955436c16', '6b11a2e6879a1a9646ba6e050cd6436e4bb377']\n",
      "\n",
      "Current Path: /home/ubuntu/Documents/python4ds/.git/objects/c3\n",
      "Directories: []\n",
      "Files: ['25452d9ad31c2cd2778e580138d8c5d166ad3f']\n",
      "\n",
      "Current Path: /home/ubuntu/Documents/python4ds/.git/objects/pack\n",
      "Directories: []\n",
      "Files: ['pack-0e2e33b8a73a56056ccc721e278f0c1e01cbb6b4.idx', 'pack-0e2e33b8a73a56056ccc721e278f0c1e01cbb6b4.pack']\n",
      "\n",
      "Current Path: /home/ubuntu/Documents/python4ds/.git/objects/be\n",
      "Directories: []\n",
      "Files: ['723e849f17bec6c89a77cd88b032796651336d']\n",
      "\n",
      "Current Path: /home/ubuntu/Documents/python4ds/.git/objects/bb\n",
      "Directories: []\n",
      "Files: ['b9c975b82cf801393eab5ab18e6646d7aef907']\n",
      "\n",
      "Current Path: /home/ubuntu/Documents/python4ds/.git/objects/ba\n",
      "Directories: []\n",
      "Files: ['21e6f0fb987c140a1d69198a0b9db4ef104584']\n",
      "\n",
      "Current Path: /home/ubuntu/Documents/python4ds/.git/objects/ed\n",
      "Directories: []\n",
      "Files: ['441d5a7a2a029002bd1f12e32c20b06da72098', '46730a5d39ffc945d9d0f3718fd0086a40624e']\n",
      "\n",
      "Current Path: /home/ubuntu/Documents/python4ds/.git/objects/db\n",
      "Directories: []\n",
      "Files: ['64358111ed1aebdd2880dda3a847e125c72df7']\n",
      "\n",
      "Current Path: /home/ubuntu/Documents/python4ds/.git/objects/a0\n",
      "Directories: []\n",
      "Files: ['2c1831755b0f94671f4157678e6bc2e3876959']\n",
      "\n",
      "Current Path: /home/ubuntu/Documents/python4ds/.git/objects/45\n",
      "Directories: []\n",
      "Files: ['3f6aa94c3db4336f38741989720af6dab93055']\n",
      "\n",
      "Current Path: /home/ubuntu/Documents/python4ds/.git/objects/f1\n",
      "Directories: []\n",
      "Files: ['430bb9fa89ad88a22588c27a9e8797c48f39dd']\n",
      "\n",
      "Current Path: /home/ubuntu/Documents/python4ds/.git/objects/fd\n",
      "Directories: []\n",
      "Files: ['c2e04ab45136a39e5b53aa34bb2b40148d430a']\n",
      "\n",
      "Current Path: /home/ubuntu/Documents/python4ds/.git/objects/2e\n",
      "Directories: []\n",
      "Files: ['a65fd6b25a5ab8d4817ebf9bf23ca3501b00e3']\n",
      "\n",
      "Current Path: /home/ubuntu/Documents/python4ds/.git/objects/63\n",
      "Directories: []\n",
      "Files: ['324f600d86539763b11cb6b43d45a5d67e7435']\n",
      "\n",
      "Current Path: /home/ubuntu/Documents/python4ds/.git/objects/58\n",
      "Directories: []\n",
      "Files: ['0a6e53cf38fa746d21079d3561ca9e76b9cf4b']\n",
      "\n",
      "Current Path: /home/ubuntu/Documents/python4ds/.git/objects/50\n",
      "Directories: []\n",
      "Files: ['552fea3cdd66abdd3da3cb06fd751c6b606f44', 'a11d2749286f9d178e7416f44f9bdf94ec5276']\n",
      "\n",
      "Current Path: /home/ubuntu/Documents/python4ds/.git/objects/09\n",
      "Directories: []\n",
      "Files: ['6e2d6749177edb5180fa6359e2c439ea217e74']\n",
      "\n",
      "Current Path: /home/ubuntu/Documents/python4ds/.git/objects/95\n",
      "Directories: []\n",
      "Files: ['80c0a20c9b94d4a4e811c01b268882b6d3d68e']\n",
      "\n",
      "Current Path: /home/ubuntu/Documents/python4ds/.git/objects/f9\n",
      "Directories: []\n",
      "Files: ['897d9ec6d67af20a9597e04531ed9677642d44']\n",
      "\n",
      "Current Path: /home/ubuntu/Documents/python4ds/.git/objects/e1\n",
      "Directories: []\n",
      "Files: ['407ac1e93c2aec38e2f46605c10df863575500']\n",
      "\n",
      "Current Path: /home/ubuntu/Documents/python4ds/.git/objects/3c\n",
      "Directories: []\n",
      "Files: ['004d67e31c0a87f07dc5a5376a9b894d31d8fc']\n",
      "\n",
      "Current Path: /home/ubuntu/Documents/python4ds/.git/objects/2f\n",
      "Directories: []\n",
      "Files: ['cae4220c5e755a163f953ec0c867895f869d47']\n",
      "\n",
      "Current Path: /home/ubuntu/Documents/python4ds/.git/objects/5e\n",
      "Directories: []\n",
      "Files: ['cdacb006cc9873c166512a1725e54a92075fe0', '24c46c5c01e8fd736a6cefbbe8e6c74db0a5b6']\n",
      "\n",
      "Current Path: /home/ubuntu/Documents/python4ds/.git/objects/18\n",
      "Directories: []\n",
      "Files: ['383def4e3a2c377b3b850525b0ab75f4f8e6e3', '0808af24c0cce2571990943cc6531cae537d88']\n",
      "\n",
      "Current Path: /home/ubuntu/Documents/python4ds/.git/objects/81\n",
      "Directories: []\n",
      "Files: ['3cdd3f36b55e903724e093eccc7a7e859ca28d', 'fc1502064bd03aec9cb92c038a969d18becbaf']\n",
      "\n",
      "Current Path: /home/ubuntu/Documents/python4ds/.git/objects/0f\n",
      "Directories: []\n",
      "Files: ['93beb95197c4bbb8eafffa7312e55e63a6f8c4', '80e4b7a00d578565dfd4f7bc07999829221856']\n",
      "\n",
      "Current Path: /home/ubuntu/Documents/python4ds/.git/objects/a8\n",
      "Directories: []\n",
      "Files: ['a156c4a540916c3de896d2913a56db4129e2da']\n",
      "\n",
      "Current Path: /home/ubuntu/Documents/python4ds/.git/objects/34\n",
      "Directories: []\n",
      "Files: ['379ea08485ec492a9761dd78b83d23076d0f77']\n",
      "\n",
      "Current Path: /home/ubuntu/Documents/python4ds/.git/objects/cb\n",
      "Directories: []\n",
      "Files: ['796ed9cd7b45feb84ce5dce32c9017032f677e']\n",
      "\n",
      "Current Path: /home/ubuntu/Documents/python4ds/.git/objects/ec\n",
      "Directories: []\n",
      "Files: ['3ea81c349cf6ca83dfcc38f2e633e0fb07c128']\n",
      "\n",
      "Current Path: /home/ubuntu/Documents/python4ds/.git/objects/9a\n",
      "Directories: []\n",
      "Files: ['e7f3289f0fe6fbd853e1a98d85a2a4c0849a37']\n",
      "\n",
      "Current Path: /home/ubuntu/Documents/python4ds/.git/objects/73\n",
      "Directories: []\n",
      "Files: ['c1ba4373b0c487e34e838776dd0ebf09b1a1bc']\n",
      "\n",
      "Current Path: /home/ubuntu/Documents/python4ds/.git/objects/08\n",
      "Directories: []\n",
      "Files: ['8a023b9a32a38469b8ea182f359f819657b2cf']\n",
      "\n",
      "Current Path: /home/ubuntu/Documents/python4ds/.git/objects/1e\n",
      "Directories: []\n",
      "Files: ['a2104ee938cb5c61d30decbc496d2a71f23bd5', '618a2817dffdcfda5dcf43c92a0ced819bddc9']\n",
      "\n",
      "Current Path: /home/ubuntu/Documents/python4ds/.git/objects/ca\n",
      "Directories: []\n",
      "Files: ['69bf993bad2494fc70e588d3aa46d5684ffd8f']\n",
      "\n",
      "Current Path: /home/ubuntu/Documents/python4ds/.git/objects/21\n",
      "Directories: []\n",
      "Files: ['860b7454ee5a1d1c76582f17751dccb07319ce']\n",
      "\n",
      "Current Path: /home/ubuntu/Documents/python4ds/.git/objects/85\n",
      "Directories: []\n",
      "Files: ['db59c5a3e710e5100a3745e14170e8178722bf']\n",
      "\n",
      "Current Path: /home/ubuntu/Documents/python4ds/.git/objects/1b\n",
      "Directories: []\n",
      "Files: ['163a093436d016ab3108cc6b09c4a7d65f06aa']\n",
      "\n",
      "Current Path: /home/ubuntu/Documents/python4ds/.git/objects/6b\n",
      "Directories: []\n",
      "Files: ['8c9ea7ab6645cd8af55ddff0323e30197dada7']\n",
      "\n",
      "Current Path: /home/ubuntu/Documents/python4ds/.git/objects/6d\n",
      "Directories: []\n",
      "Files: ['75c3cb4eddcb40ac7cec4e01f11522c2f08130']\n",
      "\n",
      "Current Path: /home/ubuntu/Documents/python4ds/.git/objects/b4\n",
      "Directories: []\n",
      "Files: ['b0bdcf659cb8b383cde8d0257f2688a73bb5ca']\n",
      "\n",
      "Current Path: /home/ubuntu/Documents/python4ds/.git/objects/ff\n",
      "Directories: []\n",
      "Files: ['3137f331c5c654a05ebd517bc3421982fd8027']\n",
      "\n",
      "Current Path: /home/ubuntu/Documents/python4ds/.git/objects/60\n",
      "Directories: []\n",
      "Files: ['af94bce5b660fa66840fc84107ebb97bed74ab', 'fff1e85aa636af8f55b6b013c64c1d094d994e', '72d000f2b3385d153a663ef9b6072281d3cb24']\n",
      "\n",
      "Current Path: /home/ubuntu/Documents/python4ds/.git/objects/ef\n",
      "Directories: []\n",
      "Files: ['a56b37d45e6053cc0ad2c61d5a6c994b9a26ca']\n",
      "\n",
      "Current Path: /home/ubuntu/Documents/python4ds/.git/objects/89\n",
      "Directories: []\n",
      "Files: ['231c9b31c82e4b3aaa8657baf5e6feee527fa8', '1cb070758cfa43c0f25b52b3a177047a78d756']\n",
      "\n",
      "Current Path: /home/ubuntu/Documents/python4ds/.git/objects/42\n",
      "Directories: []\n",
      "Files: ['f4e73444d34f075290daf560ed275c895f22fb']\n",
      "\n",
      "Current Path: /home/ubuntu/Documents/python4ds/.git/objects/a3\n",
      "Directories: []\n",
      "Files: ['91cbc0dec91c780ee3fc84a90658cabffcb0e6']\n",
      "\n",
      "Current Path: /home/ubuntu/Documents/python4ds/.git/objects/b0\n",
      "Directories: []\n",
      "Files: ['40b3e6b2165469c788c6e02c47958e386a4585']\n",
      "\n",
      "Current Path: /home/ubuntu/Documents/python4ds/.git/objects/64\n",
      "Directories: []\n",
      "Files: ['d1ab0010be1d68e811e03bab81465fe1118cd3']\n",
      "\n",
      "Current Path: /home/ubuntu/Documents/python4ds/.git/objects/a2\n",
      "Directories: []\n",
      "Files: ['333d0ceae153f1ae30175babb39d274f6603e2']\n",
      "\n",
      "Current Path: /home/ubuntu/Documents/python4ds/.git/objects/bc\n",
      "Directories: []\n",
      "Files: ['69d80457b2349cdf54e826eefeada77db95aa6']\n",
      "\n",
      "Current Path: /home/ubuntu/Documents/python4ds/.git/objects/2b\n",
      "Directories: []\n",
      "Files: ['ed5ef60db406a78eaf57e1acdacc947e01d93e']\n",
      "\n",
      "Current Path: /home/ubuntu/Documents/python4ds/.git/objects/4b\n",
      "Directories: []\n",
      "Files: ['266101831b37757de5b3eb52c61acd74859f4a']\n",
      "\n",
      "Current Path: /home/ubuntu/Documents/python4ds/.git/objects/01\n",
      "Directories: []\n",
      "Files: ['8da885216bb79eee81074713507e73d1021441']\n",
      "\n",
      "Current Path: /home/ubuntu/Documents/python4ds/.git/objects/05\n",
      "Directories: []\n",
      "Files: ['86d58b19455cd7c9e6bf0d39b81fcb801a6097']\n",
      "\n",
      "Current Path: /home/ubuntu/Documents/python4ds/.git/objects/6a\n",
      "Directories: []\n",
      "Files: ['a9d2729b9486b9165ecac424697d47e632348a']\n",
      "\n",
      "Current Path: /home/ubuntu/Documents/python4ds/.git/objects/47\n",
      "Directories: []\n",
      "Files: ['04547cb6d302b0bdaad8ab8a0af9cffb78e00a']\n",
      "\n",
      "Current Path: /home/ubuntu/Documents/python4ds/.git/objects/70\n",
      "Directories: []\n",
      "Files: ['644eac280141f0ee1568cb3cd2146ec513f484']\n",
      "\n",
      "Current Path: /home/ubuntu/Documents/python4ds/.git/objects/4d\n",
      "Directories: []\n",
      "Files: ['8c57ee321a951b6431d35f8b768dfe8176335a']\n",
      "\n",
      "Current Path: /home/ubuntu/Documents/python4ds/.git/objects/8c\n",
      "Directories: []\n",
      "Files: ['1b3dbbab0120d8aedc9ae656f90f9123e5fe87']\n",
      "\n",
      "Current Path: /home/ubuntu/Documents/python4ds/.git/objects/0a\n",
      "Directories: []\n",
      "Files: ['dfe1e6d81ead32f10115a8d59fa0d98ca54def']\n",
      "\n",
      "Current Path: /home/ubuntu/Documents/python4ds/.git/objects/da\n",
      "Directories: []\n",
      "Files: ['08c3c7e382c41f869a859f1bcd24814207686b']\n",
      "\n",
      "Current Path: /home/ubuntu/Documents/python4ds/.git/objects/5f\n",
      "Directories: []\n",
      "Files: ['575976f2cd208cdf7421d63534bd7bd1bc6998']\n",
      "\n",
      "Current Path: /home/ubuntu/Documents/python4ds/.git/objects/d1\n",
      "Directories: []\n",
      "Files: ['98cdba65c65aa69d91c6c8b2164d5f7563c73a', 'dcc0dfb7925ce5537a3e14396ad20225dcaa1d']\n",
      "\n",
      "Current Path: /home/ubuntu/Documents/python4ds/.git/objects/44\n",
      "Directories: []\n",
      "Files: ['a19d8c69c6aa542ccaabd2d47767722bc52f5b']\n",
      "\n",
      "Current Path: /home/ubuntu/Documents/python4ds/.git/objects/4c\n",
      "Directories: []\n",
      "Files: ['56acc54123e8261ae9f8c4138cf6569b5d8812']\n",
      "\n",
      "Current Path: /home/ubuntu/Documents/python4ds/.git/objects/f8\n",
      "Directories: []\n",
      "Files: ['33d97663582e1aa485e98e424800b17c1a0ca2']\n",
      "\n",
      "Current Path: /home/ubuntu/Documents/python4ds/.git/objects/27\n",
      "Directories: []\n",
      "Files: ['92ca94d2f31b75fe61b8b888d747826e388583']\n",
      "\n",
      "Current Path: /home/ubuntu/Documents/python4ds/.git/logs\n",
      "Directories: ['refs']\n",
      "Files: ['HEAD']\n",
      "\n",
      "Current Path: /home/ubuntu/Documents/python4ds/.git/logs/refs\n",
      "Directories: ['remotes', 'heads']\n",
      "Files: []\n",
      "\n",
      "Current Path: /home/ubuntu/Documents/python4ds/.git/logs/refs/remotes\n",
      "Directories: ['origin']\n",
      "Files: []\n",
      "\n",
      "Current Path: /home/ubuntu/Documents/python4ds/.git/logs/refs/remotes/origin\n",
      "Directories: []\n",
      "Files: ['master', 'HEAD']\n",
      "\n",
      "Current Path: /home/ubuntu/Documents/python4ds/.git/logs/refs/heads\n",
      "Directories: []\n",
      "Files: ['master']\n",
      "\n",
      "Current Path: /home/ubuntu/Documents/temp10\n",
      "Directories: []\n",
      "Files: []\n",
      "\n"
     ]
    }
   ],
   "source": [
    "for dir_path, subdirs, files in os.walk(directory_path):\n",
    "    print('Current Path:', dir_path)\n",
    "    print('Directories:', subdirs)\n",
    "    print('Files:', files)\n",
    "    print()"
   ]
  },
  {
   "cell_type": "markdown",
   "metadata": {},
   "source": [
    "This also helps in locating some file deep within a directory"
   ]
  },
  {
   "cell_type": "markdown",
   "metadata": {},
   "source": [
    "### Accessing Environment variables"
   ]
  },
  {
   "cell_type": "code",
   "execution_count": 96,
   "metadata": {
    "ExecuteTime": {
     "end_time": "2018-08-14T13:30:39.378713Z",
     "start_time": "2018-08-14T13:30:39.373496Z"
    }
   },
   "outputs": [
    {
     "data": {
      "text/plain": [
       "'/home/ubuntu'"
      ]
     },
     "execution_count": 96,
     "metadata": {},
     "output_type": "execute_result"
    }
   ],
   "source": [
    "os.environ.get('HOME')"
   ]
  },
  {
   "cell_type": "markdown",
   "metadata": {},
   "source": [
    "### Working with Path"
   ]
  },
  {
   "cell_type": "code",
   "execution_count": 97,
   "metadata": {
    "ExecuteTime": {
     "end_time": "2018-08-14T13:30:43.288575Z",
     "start_time": "2018-08-14T13:30:43.283446Z"
    }
   },
   "outputs": [
    {
     "name": "stdout",
     "output_type": "stream",
     "text": [
      "/home/ubuntu/test.txt\n"
     ]
    }
   ],
   "source": [
    "filename = 'test.txt'\n",
    "filepath = os.path.join(os.environ.get('HOME'), filename) #handles slashes\n",
    "print(filepath)"
   ]
  },
  {
   "cell_type": "code",
   "execution_count": 98,
   "metadata": {
    "ExecuteTime": {
     "end_time": "2018-08-14T13:30:44.113468Z",
     "start_time": "2018-08-14T13:30:44.102553Z"
    }
   },
   "outputs": [
    {
     "name": "stdout",
     "output_type": "stream",
     "text": [
      "Base name: test.txt\n",
      "Directory name: /home/ubuntu\n",
      "Path does not exist\n"
     ]
    }
   ],
   "source": [
    "print('Base name:', os.path.basename('/home/ubuntu/test.txt')) #final component\n",
    "print('Directory name:', os.path.dirname('/home/ubuntu/test.txt'))\n",
    "if not os.path.exists(filepath):\n",
    "    print('Path does not exist')"
   ]
  },
  {
   "cell_type": "code",
   "execution_count": 101,
   "metadata": {
    "ExecuteTime": {
     "end_time": "2018-08-14T13:31:46.642142Z",
     "start_time": "2018-08-14T13:31:46.633439Z"
    }
   },
   "outputs": [
    {
     "name": "stdout",
     "output_type": "stream",
     "text": [
      "('/home/ubuntu', 'test.txt')\n",
      "True\n",
      "False\n",
      "True\n",
      "('./av', '.yml')\n"
     ]
    }
   ],
   "source": [
    "print(os.path.split(filepath)) #Splits into head, tail(after final slash)    \n",
    "print(os.path.isdir('./.git'))\n",
    "print(os.path.isfile('./.git'))\n",
    "print(os.path.isfile('./.ipynb_checkpoints/python_basic-checkpoint.ipynb')) #False if doesnt exist\n",
    "print(os.path.splitext('./av.yml')) #split into root and extension"
   ]
  }
 ],
 "metadata": {
  "kernelspec": {
   "display_name": "Python 3",
   "language": "python",
   "name": "python3"
  },
  "language_info": {
   "codemirror_mode": {
    "name": "ipython",
    "version": 3
   },
   "file_extension": ".py",
   "mimetype": "text/x-python",
   "name": "python",
   "nbconvert_exporter": "python",
   "pygments_lexer": "ipython3",
   "version": "3.6.6"
  }
 },
 "nbformat": 4,
 "nbformat_minor": 2
}
