{
 "cells": [
  {
   "cell_type": "markdown",
   "metadata": {},
   "source": [
    "# Crowd Computing\n",
    "- Harnessing the power of many people for estimation, calculation, or do anything with Perfection"
   ]
  },
  {
   "cell_type": "markdown",
   "metadata": {},
   "source": [
    "## Wisdom of Crowd > Wisdom of Expert\n",
    "- Conduct an experiment on estimation (number of candies in a jar or weight of bull), the aggregate measurements on the collected data will be close to actual value.\n",
    "- Some people will over-estimate the number, while some will under-estimate it. The two will eventually cancel out, and give us a value very close to  actual value.\n",
    "- We can use mean, median or other aggregate measures.\n",
    "- We may want to take **trimmed mean** ( ```scipy.stats.trim_mean()``` ), depending on our data\n",
    "- Eg. 10% trimmed mean involves removing 10% of smallest values and 10% of largest values, and then finding mean on remaining data samples. Data needs to be sorted for this.\n",
    "- So **collective opinion of group of individuals > expert opinion**.  \n",
    "- Eg. Wikipedia VS Britannica\n",
    "    * Wikipedia(crowd-sourced) is **as good as** Britiannica(experts-curated)"
   ]
  },
  {
   "cell_type": "code",
   "execution_count": 1,
   "metadata": {},
   "outputs": [],
   "source": [
    "import random\n",
    "from statistics import mean\n",
    "from scipy import stats"
   ]
  },
  {
   "cell_type": "code",
   "execution_count": 9,
   "metadata": {},
   "outputs": [],
   "source": [
    "estimates = [random.randint(100, 1000) for i in range(100)] #assume this to be random responses of people"
   ]
  },
  {
   "cell_type": "code",
   "execution_count": 8,
   "metadata": {},
   "outputs": [
    {
     "name": "stdout",
     "output_type": "stream",
     "text": [
      "577.45\n"
     ]
    }
   ],
   "source": [
    "estimates.sort()\n",
    "trim_val = int(0.1 * len(estimates))\n",
    "estimates = estimates[trim_val:len(estimates)-trim_val]\n",
    "print(mean(estimates))"
   ]
  },
  {
   "cell_type": "code",
   "execution_count": 10,
   "metadata": {},
   "outputs": [
    {
     "name": "stdout",
     "output_type": "stream",
     "text": [
      "530.525\n"
     ]
    },
    {
     "name": "stderr",
     "output_type": "stream",
     "text": [
      "/home/shahbaz/miniconda3/envs/av/lib/python3.7/site-packages/scipy/stats/stats.py:2831: FutureWarning: Using a non-tuple sequence for multidimensional indexing is deprecated; use `arr[tuple(seq)]` instead of `arr[seq]`. In the future this will be interpreted as an array index, `arr[np.array(seq)]`, which will result either in an error or a different result.\n",
      "  return np.mean(atmp[sl], axis=axis)\n"
     ]
    }
   ],
   "source": [
    "#Using Scipy\n",
    "mv = stats.trim_mean(estimates, 0.1)\n",
    "print(mv)"
   ]
  },
  {
   "cell_type": "code",
   "execution_count": null,
   "metadata": {},
   "outputs": [],
   "source": []
  }
 ],
 "metadata": {
  "kernelspec": {
   "display_name": "Python 3",
   "language": "python",
   "name": "python3"
  },
  "language_info": {
   "codemirror_mode": {
    "name": "ipython",
    "version": 3
   },
   "file_extension": ".py",
   "mimetype": "text/x-python",
   "name": "python",
   "nbconvert_exporter": "python",
   "pygments_lexer": "ipython3",
   "version": "3.6.0"
  },
  "latex_envs": {
   "LaTeX_envs_menu_present": true,
   "autoclose": false,
   "autocomplete": true,
   "bibliofile": "biblio.bib",
   "cite_by": "apalike",
   "current_citInitial": 1,
   "eqLabelWithNumbers": true,
   "eqNumInitial": 1,
   "hotkeys": {
    "equation": "Ctrl-E",
    "itemize": "Ctrl-I"
   },
   "labels_anchors": false,
   "latex_user_defs": false,
   "report_style_numbering": false,
   "user_envs_cfg": false
  }
 },
 "nbformat": 4,
 "nbformat_minor": 2
}
