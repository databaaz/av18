{
 "cells": [
  {
   "cell_type": "markdown",
   "metadata": {},
   "source": [
    "# FizzBuzz"
   ]
  },
  {
   "cell_type": "code",
   "execution_count": 1,
   "metadata": {},
   "outputs": [],
   "source": [
    "def fizzBuzz(r):\n",
    "    for i in range(1,r):\n",
    "        if i%3==0 and i%5==0:\n",
    "            print(str(i),\"FizzBuzz\")\n",
    "        elif i%3==0:\n",
    "            print(str(i),\"Fizz\")\n",
    "        elif i%5==0:\n",
    "            print(str(i),\"Buzz\")\n",
    "        else:\n",
    "            print(i)"
   ]
  },
  {
   "cell_type": "code",
   "execution_count": 2,
   "metadata": {},
   "outputs": [
    {
     "name": "stdout",
     "output_type": "stream",
     "text": [
      "1\n",
      "2\n",
      "3 Fizz\n",
      "4\n",
      "5 Buzz\n",
      "6 Fizz\n",
      "7\n",
      "8\n",
      "9 Fizz\n",
      "10 Buzz\n",
      "11\n",
      "12 Fizz\n",
      "13\n",
      "14\n",
      "15 FizzBuzz\n"
     ]
    }
   ],
   "source": [
    "fizzBuzz(16)"
   ]
  },
  {
   "cell_type": "markdown",
   "metadata": {},
   "source": [
    "# Crowd Computing\n",
    "- Harnessing the power of many people for estimation, calculation, or do anything with Perfection"
   ]
  },
  {
   "cell_type": "markdown",
   "metadata": {},
   "source": [
    "## Wisdom of Crowd > Wisdom of Expert\n",
    "- Conduct an experiment on estimation (number of candies in a jar or weight of bull), the aggregate measurements on the collected data will be close to actual value.\n",
    "- Some people will over-estimate the number, while some will under-estimate it. The two will eventually cancel out, and give us a value very close to  actual value.\n",
    "- We can use mean, median or other aggregate measures.\n",
    "- We may want to take **trimmed mean** ( ```scipy.stats.trim_mean()``` ), depending on our data\n",
    "- Eg. 10% trimmed mean involves removing 10% of smallest values and 10% of largest values, and then finding mean on remaining data samples. Data needs to be sorted for this.\n",
    "- So **collective opinion of group of individuals > expert opinion**.  \n",
    "- Eg. Wikipedia VS Britannica\n",
    "    * Wikipedia(crowd-sourced) is **as good as** Britiannica(experts-curated)"
   ]
  },
  {
   "cell_type": "code",
   "execution_count": 35,
   "metadata": {
    "ExecuteTime": {
     "end_time": "2018-08-25T22:55:40.981615Z",
     "start_time": "2018-08-25T22:55:40.970020Z"
    }
   },
   "outputs": [],
   "source": [
    "import random\n",
    "import statistics\n",
    "from scipy import stats\n",
    "import matplotlib.pyplot as plt"
   ]
  },
  {
   "cell_type": "code",
   "execution_count": 24,
   "metadata": {
    "ExecuteTime": {
     "end_time": "2018-08-25T22:51:16.636688Z",
     "start_time": "2018-08-25T22:51:16.626718Z"
    }
   },
   "outputs": [],
   "source": [
    "estimates = [random.randint(100, 1000) for i in range(100)] #assume this to be random responses of people\n"
   ]
  },
  {
   "cell_type": "code",
   "execution_count": 36,
   "metadata": {
    "ExecuteTime": {
     "end_time": "2018-08-25T22:55:56.057261Z",
     "start_time": "2018-08-25T22:55:56.043160Z"
    }
   },
   "outputs": [
    {
     "name": "stdout",
     "output_type": "stream",
     "text": [
      "527.0625\n"
     ]
    }
   ],
   "source": [
    "estimates.sort()\n",
    "trim_val = int(0.1 * len(estimates))\n",
    "trimmed_estimates = estimates[trim_val:len(estimates)-trim_val]\n",
    "print(statistics.mean(trimmed_estimates))"
   ]
  },
  {
   "cell_type": "code",
   "execution_count": 26,
   "metadata": {
    "ExecuteTime": {
     "end_time": "2018-08-25T22:52:06.757284Z",
     "start_time": "2018-08-25T22:52:06.750379Z"
    }
   },
   "outputs": [
    {
     "name": "stdout",
     "output_type": "stream",
     "text": [
      "527.0625\n"
     ]
    },
    {
     "name": "stderr",
     "output_type": "stream",
     "text": [
      "/home/ubuntu/miniconda/envs/av/lib/python3.6/site-packages/scipy/stats/stats.py:2831: FutureWarning: Using a non-tuple sequence for multidimensional indexing is deprecated; use `arr[tuple(seq)]` instead of `arr[seq]`. In the future this will be interpreted as an array index, `arr[np.array(seq)]`, which will result either in an error or a different result.\n",
      "  return np.mean(atmp[sl], axis=axis)\n"
     ]
    }
   ],
   "source": [
    "#Using Scipy\n",
    "mv = stats.trim_mean(estimates, 0.1)\n",
    "print(mv)\n"
   ]
  },
  {
   "cell_type": "markdown",
   "metadata": {},
   "source": [
    "Now let's plot the estimates and the aggregate measures to find out which of the two - mean or median is closer to the actual value."
   ]
  },
  {
   "cell_type": "code",
   "execution_count": 54,
   "metadata": {
    "ExecuteTime": {
     "end_time": "2018-08-25T23:09:24.903114Z",
     "start_time": "2018-08-25T23:09:24.614450Z"
    }
   },
   "outputs": [
    {
     "data": {
      "image/png": "[encoded data removed]",
      "text/plain": [
       "<matplotlib.figure.Figure at 0x7fb051b1cb00>"
      ]
     },
     "metadata": {},
     "output_type": "display_data"
    }
   ],
   "source": [
    "y = []\n",
    "for i in range(len(trimmed_estimates)):\n",
    "    y.append(5)\n",
    "plt.plot(trimmed_estimates,y, 'r--')  \n",
    "plt.plot([500],[5],'g^')\n",
    "plt.plot([statistics.mean(trimmed_estimates)],[5], 'bs')\n",
    "plt.plot([statistics.median(trimmed_estimates)],[5], 'ro')\n",
    "plt.annotate(s='mean',xy=[statistics.mean(trimmed_estimates),5], xytext=[statistics.mean(trimmed_estimates)+50,5+0.1], arrowprops={'facecolor':'black'})\n",
    "plt.annotate(s='median',xy=[statistics.median(trimmed_estimates),5], xytext=[statistics.median(trimmed_estimates)+50,5-0.1], arrowprops={'facecolor':'black'})\n",
    "plt.title('Estimates and proximity of aggregates to actual value')\n",
    "plt.show()"
   ]
  },
  {
   "cell_type": "markdown",
   "metadata": {},
   "source": [
    "# Jumbled Words Game"
   ]
  },
  {
   "cell_type": "markdown",
   "metadata": {},
   "source": [
    "## Rules\n",
    "- A computer picks a word, jumbles it and presents it to the player.\n",
    "- The player has to guess the right word.\n",
    "- 2 players are asked one words each alternatively, and their scores are updated accordingly"
   ]
  },
  {
   "cell_type": "code",
   "execution_count": 6,
   "metadata": {
    "ExecuteTime": {
     "end_time": "2018-08-27T04:18:38.889793Z",
     "start_time": "2018-08-27T04:18:38.875332Z"
    }
   },
   "outputs": [],
   "source": [
    "import random\n",
    "def choose():\n",
    "    words = [\"mathematics\", \"computer\", \"programming\", \"rainbow\", \"board\", \"water\", \"player\", \"condition\", \"mother\", \"cricket\"]\n",
    "    pick =  random.choice(words)\n",
    "    return pick\n",
    "\n",
    "def jumble(word):\n",
    "    jumble = ''.join(random.sample(word,len(word)))\n",
    "    return jumble\n",
    "\n",
    "def thank(p1n,p2n,p1p,p2p):\n",
    "    print(p1n,'Your score is',p1p)\n",
    "    print(p2n,'Your score is',p2p)\n",
    "    print(\"Have a nice day!\")"
   ]
  },
  {
   "cell_type": "code",
   "execution_count": 7,
   "metadata": {
    "ExecuteTime": {
     "end_time": "2018-08-27T04:18:40.426450Z",
     "start_time": "2018-08-27T04:18:40.408497Z"
    }
   },
   "outputs": [],
   "source": [
    "def play():\n",
    "    p1name = input(\"Player 1, Please enter your name: \")\n",
    "    p2name = input(\"Player 2, Please enter your name: \")\n",
    "    p1points = p2points = 0\n",
    "    turn = 0\n",
    "    while(1):\n",
    "        picked_word = choose() #computers task\n",
    "        question = jumble(picked_word)\n",
    "        print('Question: ', question)\n",
    "        if turn%2==0:\n",
    "            print(p1name,\"It's your turn\")\n",
    "            ans = input(\"What's on my mind ? \")\n",
    "            if ans==picked_word:\n",
    "                p1points += 1\n",
    "                print(\"That's correct ! Your score is\",p1points)\n",
    "            else:\n",
    "                print(\"Hard Luck ! I was thinking of\",picked_word)\n",
    "            c = int(input(\"Press 1 to continue, 0 to quit\"))  \n",
    "        else:\n",
    "            print(p2name,\"It's your turn\")\n",
    "            ans = input(\"What's on my mind ? \")\n",
    "            if ans==picked_word:\n",
    "                p2points += 1\n",
    "                print(\"That's correct ! Your score is\",p2points)\n",
    "            else:\n",
    "                print(\"Hard Luck ! I was thinking of\",picked_word)\n",
    "            c = int(input(\"Press 1 to continue, 0 to quit\"))\n",
    "        if c==0:\n",
    "            thank(p1name,p2name,p1points,p2points)\n",
    "            break\n",
    "        turn += 1\n",
    "            \n",
    "            \n",
    "        "
   ]
  },
  {
   "cell_type": "code",
   "execution_count": 8,
   "metadata": {
    "ExecuteTime": {
     "end_time": "2018-08-27T04:20:03.383204Z",
     "start_time": "2018-08-27T04:18:44.084293Z"
    }
   },
   "outputs": [
    {
     "name": "stdout",
     "output_type": "stream",
     "text": [
      "Player 1, Please enter your name: abc\n",
      "Player 2, Please enter your name: def\n",
      "Question:  mpgrgrnimoa\n",
      "abc It's your turn\n",
      "What's on my mind ? programming\n",
      "That's correct ! Your score is 1\n",
      "Press 1 to continue, 0 to quit1\n",
      "Question:  esttcimamah\n",
      "def It's your turn\n",
      "What's on my mind ? mathematics\n",
      "That's correct ! Your score is 1\n",
      "Press 1 to continue, 0 to quit1\n",
      "Question:  metcshaitam\n",
      "abc It's your turn\n",
      "What's on my mind ? mathematics\n",
      "That's correct ! Your score is 2\n",
      "Press 1 to continue, 0 to quit1\n",
      "Question:  dbaro\n",
      "def It's your turn\n",
      "What's on my mind ? board\n",
      "That's correct ! Your score is 2\n",
      "Press 1 to continue, 0 to quit1\n",
      "Question:  cckriet\n",
      "abc It's your turn\n",
      "What's on my mind ? criket\n",
      "Hard Luck ! I was thinking of cricket\n",
      "Press 1 to continue, 0 to quit0\n",
      "abc Your score is 2\n",
      "def Your score is 2\n",
      "Have a nice day!\n"
     ]
    }
   ],
   "source": [
    "play()"
   ]
  },
  {
   "cell_type": "code",
   "execution_count": null,
   "metadata": {},
   "outputs": [],
   "source": []
  }
 ],
 "metadata": {
  "kernelspec": {
   "display_name": "Python 3",
   "language": "python",
   "name": "python3"
  },
  "language_info": {
   "codemirror_mode": {
    "name": "ipython",
    "version": 3
   },
   "file_extension": ".py",
   "mimetype": "text/x-python",
   "name": "python",
   "nbconvert_exporter": "python",
   "pygments_lexer": "ipython3",
   "version": "3.6.0"
  },
  "latex_envs": {
   "LaTeX_envs_menu_present": true,
   "autoclose": false,
   "autocomplete": true,
   "bibliofile": "biblio.bib",
   "cite_by": "apalike",
   "current_citInitial": 1,
   "eqLabelWithNumbers": true,
   "eqNumInitial": 1,
   "hotkeys": {
    "equation": "Ctrl-E",
    "itemize": "Ctrl-I"
   },
   "labels_anchors": false,
   "latex_user_defs": false,
   "report_style_numbering": false,
   "user_envs_cfg": false
  }
 },
 "nbformat": 4,
 "nbformat_minor": 2
}
