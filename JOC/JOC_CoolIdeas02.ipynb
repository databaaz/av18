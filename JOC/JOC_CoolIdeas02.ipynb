{
 "cells": [
  {
   "cell_type": "markdown",
   "metadata": {},
   "source": [
    "# 1. Dobble Game: Spot the Similarity"
   ]
  },
  {
   "cell_type": "markdown",
   "metadata": {},
   "source": [
    "## Rules:\n",
    "- There are a set of cards, each having a definite number of unique symbols\n",
    "- Any two cards from the set have exactly 1 symbol in common\n",
    "- 2 cards are picked at random and shown to the user, the user has to spot the difference."
   ]
  },
  {
   "cell_type": "markdown",
   "metadata": {},
   "source": [
    "* We will implement the procedure to generate 2 cards for the game"
   ]
  },
  {
   "cell_type": "code",
   "execution_count": 2,
   "metadata": {},
   "outputs": [],
   "source": [
    "import string\n",
    "import random\n",
    "def generate_cards(n):\n",
    "    symbols = list(string.ascii_letters)\n",
    "    card1 = [0]*n\n",
    "    card2 = [0]*n\n",
    "\n",
    "    samesymbol = random.choice(symbols)\n",
    "    symbols.remove(samesymbol)\n",
    "\n",
    "    pos1 = random.randint(0,n-1)\n",
    "    pos2 = random.randint(0,n-1)\n",
    "    if pos1==pos2:\n",
    "        card1[pos1] = samesymbol\n",
    "        card2[pos2] = samesymbol\n",
    "    else:\n",
    "        card1[pos1] = samesymbol\n",
    "        card2[pos2] = samesymbol\n",
    "        card1[pos2] = random.choice(symbols)\n",
    "        symbols.remove(card1[pos2])\n",
    "        card2[pos1] = random.choice(symbols)\n",
    "        symbols.remove(card2[pos1])\n",
    "    i=0\n",
    "    while(i < n):\n",
    "        if i != pos1 and i != pos2:\n",
    "            alphabet1 = random.choice(symbols)\n",
    "            symbols.remove(alphabet1)\n",
    "            alphabet2 = random.choice(symbols)\n",
    "            symbols.remove(alphabet2)\n",
    "            card1[i] = alphabet1\n",
    "            card2[i] = alphabet2\n",
    "        i += 1\n",
    "    return card1, card2\n",
    "    \n"
   ]
  },
  {
   "cell_type": "code",
   "execution_count": 16,
   "metadata": {},
   "outputs": [],
   "source": [
    "def find_simiarity(card1, card2):\n",
    "    i = j = 0\n",
    "    card1 = sorted(card1)\n",
    "    card2 = sorted(card2)\n",
    "    while(i < len(card1) and j < len(card2)):\n",
    "        if card1[i] == card1[j]:\n",
    "            return card1[i]\n",
    "        elif card1[i] < card1[j]:\n",
    "            i += 1\n",
    "        else:\n",
    "            j += 1\n",
    "        return -1    \n",
    "    "
   ]
  },
  {
   "cell_type": "code",
   "execution_count": 23,
   "metadata": {},
   "outputs": [
    {
     "name": "stdout",
     "output_type": "stream",
     "text": [
      "['U', 'z', 'F', 'Q'] ['c', 'X', 'Q', 'H']\n"
     ]
    }
   ],
   "source": [
    "card1, card2 = generate_cards(4)\n",
    "print(card1, card2)"
   ]
  },
  {
   "cell_type": "code",
   "execution_count": 24,
   "metadata": {},
   "outputs": [
    {
     "data": {
      "text/plain": [
       "'F'"
      ]
     },
     "execution_count": 24,
     "metadata": {},
     "output_type": "execute_result"
    }
   ],
   "source": [
    "find_simiarity(card1, card2)"
   ]
  },
  {
   "cell_type": "markdown",
   "metadata": {},
   "source": [
    "# 2. Birthday Paradox - Find Your Twins"
   ]
  },
  {
   "cell_type": "markdown",
   "metadata": {},
   "source": [
    "- If you pick 8 peole randomly, and as their Day of Birth (i.e Monday, Tuesday, etc.), it is guaranteed that at least 2 will have the same day (since only 7 possibilities.\n",
    "- Similarly if we pick random people and ask their DDMM of birth (eg.28-08, 01-02, etc.), in how many count can we guarantee that there will be repitition ?\n",
    "- more than 366 ? (since those are max number of possibilities)\n",
    "- Well, if you conduct this experiment on 40 - 50 people, you will certainly see repetition. Surprised !\n",
    "- This is called **Birthday Paradox**"
   ]
  },
  {
   "cell_type": "markdown",
   "metadata": {},
   "source": [
    "## Leap Year\n",
    "1. Most of the years that are divisible by 4 are leap years, except:\n",
    "    - the year is a century year\n",
    "    - and it is also not divisible by 400\n",
    "2. Pseudocode:\n",
    "    - If year is divisible by 400, it's a  LEAP YEAR\n",
    "    - Else If year is divisible by 100, it is NOT A LEAP YEAR\n",
    "    - Else If year is divisible by 4, It is a LEAP YEAR\n",
    "    - Else, It's NOT A LEAP YEAR"
   ]
  },
  {
   "cell_type": "code",
   "execution_count": 19,
   "metadata": {},
   "outputs": [
    {
     "name": "stdout",
     "output_type": "stream",
     "text": [
      "1996 is a LEAP YEAR\n"
     ]
    }
   ],
   "source": [
    "def is_leap_year(year):\n",
    "    if (year % 400 == 0) or (year % 4 == 0 and year % 100 != 0):\n",
    "        return True\n",
    "    else:\n",
    "        return False\n",
    "year = random.randint(1996,2018)    \n",
    "if is_leap_year(year):\n",
    "    print(year, \"is a LEAP YEAR\")\n",
    "else:\n",
    "    print(year, \"is NOT A LEAP YEAR\")"
   ]
  },
  {
   "cell_type": "markdown",
   "metadata": {},
   "source": [
    "- We will generate random DDMM for birthdays, instead of collecting them from actual users.\n",
    "- The precedure will be as follows:\n",
    "    - If month is Feb, and year is Leap year, generate random number from 1 to 29\n",
    "    - If month is Feb, and year is not a Leap year, generate random number from 1 to 28\n",
    "    - If month % 2 == 0 and month < 7, generate random number from 1 to 30 # April, June\n",
    "    - If month % 2 == 0 and month > 7, generate random number from 1 to 31 # August, October, December\n",
    "    - If month % 2 != 0 and month <= 7, generate random number from 1 to 31 # Jan, March, May, July\n",
    "    - If month % 2 != 0 and month > 7, generate random number from 1 to 30 # September, November\n",
    "- We will generate birthdays for 50 people    "
   ]
  },
  {
   "cell_type": "code",
   "execution_count": 49,
   "metadata": {},
   "outputs": [
    {
     "name": "stdout",
     "output_type": "stream",
     "text": [
      "[14, 16, 22, 36, 47, 51, 54, 54, 67, 88, 89, 95, 100, 106, 111, 123, 128, 130, 130, 131, 141, 142, 145, 146, 163, 171, 206, 207, 207, 210, 212, 223, 229, 235, 238, 247, 264, 270, 272, 279, 289, 292, 294, 303, 317, 328, 335, 354, 363, 363]\n",
      "No. of collisions:  4\n"
     ]
    }
   ],
   "source": [
    "import random\n",
    "import datetime\n",
    "\n",
    "birthdays = []\n",
    "for i in range(50):\n",
    "    # Generate year\n",
    "    year = random.randint(1895,2017) # oldest person ever lived was 122 years old\n",
    "    # Generate month\n",
    "    month = random.randint(1,12)\n",
    "    # Generate day\n",
    "    if (month == 2 and is_leap_year(year)):\n",
    "        day = random.randint(1,29)\n",
    "    elif (month == 2 and not is_leap_year(year)):\n",
    "        day = random.randint(1,28)\n",
    "    elif ((month % 2 == 0 and month < 7) or (month % 2 != 0 and month > 7 and month <= 12)):\n",
    "        day = random.randint(1,30)\n",
    "    else:\n",
    "        day = random.randint(1,31)\n",
    "    dd = datetime.date(year, month, day)\n",
    "    day_of_year =  dd.timetuple().tm_yday # represents ddmm with a single value\n",
    "    birthdays.append(day_of_year)\n",
    "birthdays.sort()\n",
    "print(birthdays)\n",
    "print(\"No. of collisions: \", len(birthdays) - len(set(birthdays)))\n",
    "            \n",
    "    "
   ]
  },
  {
   "cell_type": "markdown",
   "metadata": {},
   "source": [
    "- Thus we clearly illustrated the presence of birthday paradox through this program"
   ]
  },
  {
   "cell_type": "markdown",
   "metadata": {},
   "source": [
    "## Exploring datetime"
   ]
  },
  {
   "cell_type": "code",
   "execution_count": 82,
   "metadata": {},
   "outputs": [
    {
     "name": "stdout",
     "output_type": "stream",
     "text": [
      "Today is 2018-09-09\n",
      "Year 2018\n",
      "Month 09 - September\n",
      "Day 09\n",
      "Today: 09/09/18\n",
      "Week no. 36\n",
      "Week day 0 - Sunday\n",
      "Day of year 252\n",
      "Day of year 252\n",
      "Right now it is 2018-09-09 23:53:04.075668\n"
     ]
    }
   ],
   "source": [
    "# Today's date\n",
    "today = datetime.date.today()\n",
    "print(\"Today is\", today)\n",
    "\n",
    "# Date's Year\n",
    "year = datetime.date.today().strftime(\"%Y\")\n",
    "print(\"Year\", year)\n",
    "\n",
    "# Date's Month\n",
    "print(\"Month\", today.strftime(\"%m\"),\"-\",today.strftime(\"%B\"))\n",
    "\n",
    "# Date's Day\n",
    "print(\"Day\", today.strftime(\"%d\"))\n",
    "\n",
    "# Date in DD/MM/YYY\n",
    "print(\"Today:\", today.strftime(\"%D\"))\n",
    "\n",
    "# Week no. of year\n",
    "print(\"Week no.\", today.strftime(\"%W\"))\n",
    "\n",
    "# Day of the week\n",
    "print(\"Week day\", today.strftime(\"%w\"), \"-\", today.strftime(\"%A\"))\n",
    "\n",
    "# Day of the year\n",
    "print(\"Day of year\", today.strftime(\"%j\"))\n",
    "# OR\n",
    "print(\"Day of year\", today.timetuple().tm_yday)\n",
    "\n",
    "# Current DateTime \n",
    "print(\"Right now it is\", datetime.datetime.now()) #YY-MM-DD HH:MM:SS.mS"
   ]
  },
  {
   "cell_type": "markdown",
   "metadata": {},
   "source": [
    "# 3. Guess the Movie Name"
   ]
  },
  {
   "cell_type": "code",
   "execution_count": null,
   "metadata": {},
   "outputs": [],
   "source": []
  }
 ],
 "metadata": {
  "kernelspec": {
   "display_name": "Python 3",
   "language": "python",
   "name": "python3"
  },
  "language_info": {
   "codemirror_mode": {
    "name": "ipython",
    "version": 3
   },
   "file_extension": ".py",
   "mimetype": "text/x-python",
   "name": "python",
   "nbconvert_exporter": "python",
   "pygments_lexer": "ipython3",
   "version": "3.6.0"
  }
 },
 "nbformat": 4,
 "nbformat_minor": 2
}
