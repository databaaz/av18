{
 "cells": [
  {
   "cell_type": "markdown",
   "metadata": {},
   "source": [
    "# 1. Dobble Game: Spot the Similarity"
   ]
  },
  {
   "cell_type": "markdown",
   "metadata": {},
   "source": [
    "## Rules:\n",
    "- There are a set of cards, each having a definite number of unique symbols\n",
    "- Any two cards from the set have exactly 1 symbol in common\n",
    "- 2 cards are picked at random and shown to the user, the user has to spot the difference."
   ]
  },
  {
   "cell_type": "markdown",
   "metadata": {},
   "source": [
    "* We will implement the procedure to generate 2 cards for the game"
   ]
  },
  {
   "cell_type": "code",
   "execution_count": 2,
   "metadata": {},
   "outputs": [],
   "source": [
    "import string\n",
    "import random\n",
    "def generate_cards(n):\n",
    "    symbols = list(string.ascii_letters)\n",
    "    card1 = [0]*n\n",
    "    card2 = [0]*n\n",
    "\n",
    "    samesymbol = random.choice(symbols)\n",
    "    symbols.remove(samesymbol)\n",
    "\n",
    "    pos1 = random.randint(0,n-1)\n",
    "    pos2 = random.randint(0,n-1)\n",
    "    if pos1==pos2:\n",
    "        card1[pos1] = samesymbol\n",
    "        card2[pos2] = samesymbol\n",
    "    else:\n",
    "        card1[pos1] = samesymbol\n",
    "        card2[pos2] = samesymbol\n",
    "        card1[pos2] = random.choice(symbols)\n",
    "        symbols.remove(card1[pos2])\n",
    "        card2[pos1] = random.choice(symbols)\n",
    "        symbols.remove(card2[pos1])\n",
    "    i=0\n",
    "    while(i < n):\n",
    "        if i != pos1 and i != pos2:\n",
    "            alphabet1 = random.choice(symbols)\n",
    "            symbols.remove(alphabet1)\n",
    "            alphabet2 = random.choice(symbols)\n",
    "            symbols.remove(alphabet2)\n",
    "            card1[i] = alphabet1\n",
    "            card2[i] = alphabet2\n",
    "        i += 1\n",
    "    return card1, card2\n",
    "    \n"
   ]
  },
  {
   "cell_type": "code",
   "execution_count": 16,
   "metadata": {},
   "outputs": [],
   "source": [
    "def find_simiarity(card1, card2):\n",
    "    i = j = 0\n",
    "    card1 = sorted(card1)\n",
    "    card2 = sorted(card2)\n",
    "    while(i < len(card1) and j < len(card2)):\n",
    "        if card1[i] == card1[j]:\n",
    "            return card1[i]\n",
    "        elif card1[i] < card1[j]:\n",
    "            i += 1\n",
    "        else:\n",
    "            j += 1\n",
    "        return -1    \n",
    "    "
   ]
  },
  {
   "cell_type": "code",
   "execution_count": 23,
   "metadata": {},
   "outputs": [
    {
     "name": "stdout",
     "output_type": "stream",
     "text": [
      "['U', 'z', 'F', 'Q'] ['c', 'X', 'Q', 'H']\n"
     ]
    }
   ],
   "source": [
    "card1, card2 = generate_cards(4)\n",
    "print(card1, card2)"
   ]
  },
  {
   "cell_type": "code",
   "execution_count": 24,
   "metadata": {},
   "outputs": [
    {
     "data": {
      "text/plain": [
       "'F'"
      ]
     },
     "execution_count": 24,
     "metadata": {},
     "output_type": "execute_result"
    }
   ],
   "source": [
    "find_simiarity(card1, card2)"
   ]
  },
  {
   "cell_type": "markdown",
   "metadata": {},
   "source": [
    "# 2. Birthday Paradox - Find Your Twins"
   ]
  },
  {
   "cell_type": "markdown",
   "metadata": {},
   "source": [
    "- If you pick 8 peole randomly, and as their Day of Birth (i.e Monday, Tuesday, etc.), it is guaranteed that at least 2 will have the same day (since only 7 possibilities.\n",
    "- Similarly if we pick random people and ask their DDMM of birth (eg.28-08, 01-02, etc.), in how many count can we guarantee that there will be repitition ?\n",
    "- more than 366 ? (since those are max number of possibilities)\n",
    "- Well, if you conduct this experiment on 40 - 50 people, you will certainly see repetition. Surprised !\n",
    "- This is called **Birthday Paradox**"
   ]
  },
  {
   "cell_type": "markdown",
   "metadata": {},
   "source": [
    "## Leap Year\n",
    "1. Most of the years that are divisible by 4 are leap years, except:\n",
    "    - the year is a century year\n",
    "    - and it is also not divisible by 400\n",
    "2. Pseudocode:\n",
    "    - If year is divisible by 400, it's a  LEAP YEAR\n",
    "    - Else If year is divisible by 100, it is NOT A LEAP YEAR\n",
    "    - Else If year is divisible by 4, It is a LEAP YEAR\n",
    "    - Else, It's NOT A LEAP YEAR"
   ]
  },
  {
   "cell_type": "code",
   "execution_count": 19,
   "metadata": {},
   "outputs": [
    {
     "name": "stdout",
     "output_type": "stream",
     "text": [
      "1996 is a LEAP YEAR\n"
     ]
    }
   ],
   "source": [
    "def is_leap_year(year):\n",
    "    if (year % 400 == 0) or (year % 4 == 0 and year % 100 != 0):\n",
    "        return True\n",
    "    else:\n",
    "        return False\n",
    "year = random.randint(1996,2018)    \n",
    "if is_leap_year(year):\n",
    "    print(year, \"is a LEAP YEAR\")\n",
    "else:\n",
    "    print(year, \"is NOT A LEAP YEAR\")"
   ]
  },
  {
   "cell_type": "markdown",
   "metadata": {},
   "source": [
    "- We will generate random DDMM for birthdays, instead of collecting them from actual users.\n",
    "- The precedure will be as follows:\n",
    "    - If month is Feb, and year is Leap year, generate random number from 1 to 29\n",
    "    - If month is Feb, and year is not a Leap year, generate random number from 1 to 28\n",
    "    - If month % 2 == 0 and month < 7, generate random number from 1 to 30 # April, June\n",
    "    - If month % 2 == 0 and month > 7, generate random number from 1 to 31 # August, October, December\n",
    "    - If month % 2 != 0 and month <= 7, generate random number from 1 to 31 # Jan, March, May, July\n",
    "    - If month % 2 != 0 and month > 7, generate random number from 1 to 30 # September, November\n",
    "- We will generate birthdays for 50 people    "
   ]
  },
  {
   "cell_type": "code",
   "execution_count": 49,
   "metadata": {},
   "outputs": [
    {
     "name": "stdout",
     "output_type": "stream",
     "text": [
      "[14, 16, 22, 36, 47, 51, 54, 54, 67, 88, 89, 95, 100, 106, 111, 123, 128, 130, 130, 131, 141, 142, 145, 146, 163, 171, 206, 207, 207, 210, 212, 223, 229, 235, 238, 247, 264, 270, 272, 279, 289, 292, 294, 303, 317, 328, 335, 354, 363, 363]\n",
      "No. of collisions:  4\n"
     ]
    }
   ],
   "source": [
    "import random\n",
    "import datetime\n",
    "\n",
    "birthdays = []\n",
    "for i in range(50):\n",
    "    # Generate year\n",
    "    year = random.randint(1895,2017) # oldest person ever lived was 122 years old\n",
    "    # Generate month\n",
    "    month = random.randint(1,12)\n",
    "    # Generate day\n",
    "    if (month == 2 and is_leap_year(year)):\n",
    "        day = random.randint(1,29)\n",
    "    elif (month == 2 and not is_leap_year(year)):\n",
    "        day = random.randint(1,28)\n",
    "    elif ((month % 2 == 0 and month < 7) or (month % 2 != 0 and month > 7 and month <= 12)):\n",
    "        day = random.randint(1,30)\n",
    "    else:\n",
    "        day = random.randint(1,31)\n",
    "    dd = datetime.date(year, month, day)\n",
    "    day_of_year =  dd.timetuple().tm_yday # represents ddmm with a single value\n",
    "    birthdays.append(day_of_year)\n",
    "birthdays.sort()\n",
    "print(birthdays)\n",
    "print(\"No. of collisions: \", len(birthdays) - len(set(birthdays)))\n",
    "            \n",
    "    "
   ]
  },
  {
   "cell_type": "markdown",
   "metadata": {},
   "source": [
    "- Thus we clearly illustrated the presence of birthday paradox through this program"
   ]
  },
  {
   "cell_type": "markdown",
   "metadata": {},
   "source": [
    "## Exploring datetime"
   ]
  },
  {
   "cell_type": "code",
   "execution_count": 82,
   "metadata": {},
   "outputs": [
    {
     "name": "stdout",
     "output_type": "stream",
     "text": [
      "Today is 2018-09-09\n",
      "Year 2018\n",
      "Month 09 - September\n",
      "Day 09\n",
      "Today: 09/09/18\n",
      "Week no. 36\n",
      "Week day 0 - Sunday\n",
      "Day of year 252\n",
      "Day of year 252\n",
      "Right now it is 2018-09-09 23:53:04.075668\n"
     ]
    }
   ],
   "source": [
    "# Today's date\n",
    "today = datetime.date.today()\n",
    "print(\"Today is\", today)\n",
    "\n",
    "# Date's Year\n",
    "year = datetime.date.today().strftime(\"%Y\")\n",
    "print(\"Year\", year)\n",
    "\n",
    "# Date's Month\n",
    "print(\"Month\", today.strftime(\"%m\"),\"-\",today.strftime(\"%B\"))\n",
    "\n",
    "# Date's Day\n",
    "print(\"Day\", today.strftime(\"%d\"))\n",
    "\n",
    "# Date in DD/MM/YYY\n",
    "print(\"Today:\", today.strftime(\"%D\"))\n",
    "\n",
    "# Week no. of year\n",
    "print(\"Week no.\", today.strftime(\"%W\"))\n",
    "\n",
    "# Day of the week\n",
    "print(\"Week day\", today.strftime(\"%w\"), \"-\", today.strftime(\"%A\"))\n",
    "\n",
    "# Day of the year\n",
    "print(\"Day of year\", today.strftime(\"%j\"))\n",
    "# OR\n",
    "print(\"Day of year\", today.timetuple().tm_yday)\n",
    "\n",
    "# Current DateTime \n",
    "print(\"Right now it is\", datetime.datetime.now()) #YY-MM-DD HH:MM:SS.mS"
   ]
  },
  {
   "cell_type": "markdown",
   "metadata": {},
   "source": [
    "# 3. Guess the Movie Name"
   ]
  },
  {
   "cell_type": "markdown",
   "metadata": {},
   "source": [
    "## Rules:\n",
    "- Computer thinks of a movie name, user has to guess it right\n",
    "- Computer displays blank dashes in place of letters of the movie\n",
    "- If the user cannot guess the name, he/she has to guess a letter which may or may not be present in the name\n",
    "- If the letter is present in the name of the movie, the computer will replace all instances of corresponding dashes with the same letter\n",
    "- If the letter is not present, user has to try again"
   ]
  },
  {
   "cell_type": "code",
   "execution_count": 22,
   "metadata": {},
   "outputs": [],
   "source": [
    "def display_scores(p1name, p2name, pp1, pp2):\n",
    "    print(p1name,\" Your score is\", pp1)\n",
    "    print(p2name,\" Your score is\", pp2)\n",
    "\n",
    "def increment_score(pp1, pp2, turn)    :\n",
    "    if turn%2 == 0:\n",
    "        pp1 += 1\n",
    "    else:\n",
    "        pp2 += 1\n",
    "    return pp1, pp2  \n",
    "\n",
    "def create_question(movie):\n",
    "    n = len(movie)\n",
    "    qn = ''\n",
    "    for i in range(n):\n",
    "        if movie[i] == ' ':\n",
    "            qn += ' '\n",
    "        else:\n",
    "            qn += '*'\n",
    "    return qn        \n",
    "\n",
    "def unlock(qn, movie, letter):\n",
    "    modified_qn = list(qn)\n",
    "    for i in range(len(movie)):\n",
    "        if movie[i] == letter:\n",
    "            modified_qn[i] = letter\n",
    "    return ''.join(modified_qn)        "
   ]
  },
  {
   "cell_type": "code",
   "execution_count": 25,
   "metadata": {},
   "outputs": [],
   "source": [
    "import random\n",
    "movies = [\"lagaan\", \"anand\", \"rang de basanti\", \"gangs of wasseypur\", \"swades\", \"taare zameen par\", \"dangal\", \"zindagi na milegi dobara\", \"udaan\"]\n",
    "\n",
    "def play():\n",
    "    p1name = input(\"Player 1, Enter your name: \")\n",
    "    p2name = input(\"Player 2, Enter your name: \")\n",
    "    pp1 = 0\n",
    "    pp2 = 0\n",
    "    turn = 0\n",
    "    continue_play = True\n",
    "    while continue_play:\n",
    "        if turn % 2 == 0:\n",
    "            print(p1name, \"It's your turn\")\n",
    "        else:\n",
    "            print(p2name, \"It's your turn\")\n",
    "        picked_movie =  random.choice(movies)\n",
    "        modified_qn = create_question(picked_movie)\n",
    "        print(\"Guess the movie:\", modified_qn)\n",
    "        not_guessed = True\n",
    "        while not_guessed:\n",
    "            letter = input(\"Enter a letter from movie: \")\n",
    "            if letter in picked_movie:\n",
    "                modified_qn = unlock(modified_qn, picked_movie, letter)\n",
    "                if modified_qn == picked_movie:\n",
    "                    print(\"You have exhausted all your attempts to guess\")\n",
    "                    display_scores(p1name, p2name, pp1, pp2)\n",
    "                    not_guessed = False\n",
    "                    continue\n",
    "                print(modified_qn)\n",
    "                d = int(input(\"Press 1 to guess the movie name or 2 to guess another letter: \"))\n",
    "                if d == 1:\n",
    "                    ans = input(\"Your answer: \")\n",
    "                    if ans == picked_movie:\n",
    "                        pp1, pp2 = increment_score(pp1, pp2, turn)\n",
    "                        print('Correct')\n",
    "                        not_guessed = False\n",
    "                        display_scores(p1name, p2name, pp1, pp2)\n",
    "                    else:\n",
    "                        print(\"That's wrong, Try again !\")\n",
    "                        \n",
    "            else:\n",
    "                print(letter, \"Not found\")\n",
    "        c = int(input(\"Press 1 to continue or Press 0 to quit\" ))\n",
    "        if c == 0:\n",
    "            print(\"Thank you for playing\")\n",
    "            display_scores(p1name, p2name, pp1, pp2)\n",
    "            continue_play == False\n",
    "        turn += 1"
   ]
  },
  {
   "cell_type": "code",
   "execution_count": 26,
   "metadata": {},
   "outputs": [
    {
     "name": "stdout",
     "output_type": "stream",
     "text": [
      "Player 1, Enter your name: Shahbaz Pankaj\n",
      "Player 2, Enter your name: Pankaj\n",
      "Shahbaz Pankaj It's your turn\n",
      "Guess the movie: **** ** *******\n",
      "Enter a letter from movie: g\n",
      "***g ** *******\n",
      "Press 1 to guess the movie name or 2 to guess another letter: 1\n",
      "Your answer: gang of wasseypur\n",
      "That's wrong, Try again !\n",
      "Enter a letter from movie: a\n",
      "*a*g ** *a*a***\n",
      "Press 1 to guess the movie name or 2 to guess another letter: 1\n",
      "Your answer: rang de basanti\n",
      "Correct\n",
      "Shahbaz Pankaj  Your score is 1\n",
      "Pankaj  Your score is 0\n",
      "Press 1 to continue or Press 0 to quit1\n",
      "Pankaj It's your turn\n",
      "Guess the movie: ******* ** ****** ******\n",
      "Enter a letter from movie: a\n",
      "****a** *a ****** ***a*a\n",
      "Press 1 to guess the movie name or 2 to guess another letter: 1\n",
      "Your answer: zindagi na milegi dobara\n",
      "Correct\n",
      "Shahbaz Pankaj  Your score is 1\n",
      "Pankaj  Your score is 1\n",
      "Press 1 to continue or Press 0 to quit1\n",
      "Shahbaz Pankaj It's your turn\n",
      "Guess the movie: **** ** *******\n",
      "Enter a letter from movie: a\n",
      "*a** ** *a*a***\n",
      "Press 1 to guess the movie name or 2 to guess another letter: 1\n",
      "Your answer: rang de basanti\n",
      "Correct\n",
      "Shahbaz Pankaj  Your score is 2\n",
      "Pankaj  Your score is 1\n",
      "Press 1 to continue or Press 0 to quit1\n",
      "Pankaj It's your turn\n",
      "Guess the movie: *****\n",
      "Enter a letter from movie: a\n",
      "a*a**\n",
      "Press 1 to guess the movie name or 2 to guess another letter: 2\n",
      "Enter a letter from movie: a\n",
      "a*a**\n",
      "Press 1 to guess the movie name or 2 to guess another letter: 2\n",
      "Enter a letter from movie: n\n",
      "anan*\n",
      "Press 1 to guess the movie name or 2 to guess another letter: 2\n",
      "Enter a letter from movie: d\n",
      "You have exhausted all your attempts to guess\n",
      "Shahbaz Pankaj  Your score is 2\n",
      "Pankaj  Your score is 1\n",
      "Press 1 to continue or Press 0 to quit0\n",
      "Thank you for playing\n",
      "Shahbaz Pankaj  Your score is 2\n",
      "Pankaj  Your score is 1\n",
      "Shahbaz Pankaj It's your turn\n",
      "Guess the movie: ******\n"
     ]
    },
    {
     "ename": "KeyboardInterrupt",
     "evalue": "",
     "output_type": "error",
     "traceback": [
      "\u001b[0;31m---------------------------------------------------------------------------\u001b[0m",
      "\u001b[0;31mKeyboardInterrupt\u001b[0m                         Traceback (most recent call last)",
      "\u001b[0;32m~/miniconda3/envs/av/lib/python3.6/site-packages/ipykernel/kernelbase.py\u001b[0m in \u001b[0;36m_input_request\u001b[0;34m(self, prompt, ident, parent, password)\u001b[0m\n\u001b[1;32m    728\u001b[0m             \u001b[0;32mtry\u001b[0m\u001b[0;34m:\u001b[0m\u001b[0;34m\u001b[0m\u001b[0m\n\u001b[0;32m--> 729\u001b[0;31m                 \u001b[0mident\u001b[0m\u001b[0;34m,\u001b[0m \u001b[0mreply\u001b[0m \u001b[0;34m=\u001b[0m \u001b[0mself\u001b[0m\u001b[0;34m.\u001b[0m\u001b[0msession\u001b[0m\u001b[0;34m.\u001b[0m\u001b[0mrecv\u001b[0m\u001b[0;34m(\u001b[0m\u001b[0mself\u001b[0m\u001b[0;34m.\u001b[0m\u001b[0mstdin_socket\u001b[0m\u001b[0;34m,\u001b[0m \u001b[0;36m0\u001b[0m\u001b[0;34m)\u001b[0m\u001b[0;34m\u001b[0m\u001b[0m\n\u001b[0m\u001b[1;32m    730\u001b[0m             \u001b[0;32mexcept\u001b[0m \u001b[0mException\u001b[0m\u001b[0;34m:\u001b[0m\u001b[0;34m\u001b[0m\u001b[0m\n",
      "\u001b[0;32m~/miniconda3/envs/av/lib/python3.6/site-packages/jupyter_client/session.py\u001b[0m in \u001b[0;36mrecv\u001b[0;34m(self, socket, mode, content, copy)\u001b[0m\n\u001b[1;32m    802\u001b[0m         \u001b[0;32mtry\u001b[0m\u001b[0;34m:\u001b[0m\u001b[0;34m\u001b[0m\u001b[0m\n\u001b[0;32m--> 803\u001b[0;31m             \u001b[0mmsg_list\u001b[0m \u001b[0;34m=\u001b[0m \u001b[0msocket\u001b[0m\u001b[0;34m.\u001b[0m\u001b[0mrecv_multipart\u001b[0m\u001b[0;34m(\u001b[0m\u001b[0mmode\u001b[0m\u001b[0;34m,\u001b[0m \u001b[0mcopy\u001b[0m\u001b[0;34m=\u001b[0m\u001b[0mcopy\u001b[0m\u001b[0;34m)\u001b[0m\u001b[0;34m\u001b[0m\u001b[0m\n\u001b[0m\u001b[1;32m    804\u001b[0m         \u001b[0;32mexcept\u001b[0m \u001b[0mzmq\u001b[0m\u001b[0;34m.\u001b[0m\u001b[0mZMQError\u001b[0m \u001b[0;32mas\u001b[0m \u001b[0me\u001b[0m\u001b[0;34m:\u001b[0m\u001b[0;34m\u001b[0m\u001b[0m\n",
      "\u001b[0;32m~/miniconda3/envs/av/lib/python3.6/site-packages/zmq/sugar/socket.py\u001b[0m in \u001b[0;36mrecv_multipart\u001b[0;34m(self, flags, copy, track)\u001b[0m\n\u001b[1;32m    466\u001b[0m         \"\"\"\n\u001b[0;32m--> 467\u001b[0;31m         \u001b[0mparts\u001b[0m \u001b[0;34m=\u001b[0m \u001b[0;34m[\u001b[0m\u001b[0mself\u001b[0m\u001b[0;34m.\u001b[0m\u001b[0mrecv\u001b[0m\u001b[0;34m(\u001b[0m\u001b[0mflags\u001b[0m\u001b[0;34m,\u001b[0m \u001b[0mcopy\u001b[0m\u001b[0;34m=\u001b[0m\u001b[0mcopy\u001b[0m\u001b[0;34m,\u001b[0m \u001b[0mtrack\u001b[0m\u001b[0;34m=\u001b[0m\u001b[0mtrack\u001b[0m\u001b[0;34m)\u001b[0m\u001b[0;34m]\u001b[0m\u001b[0;34m\u001b[0m\u001b[0m\n\u001b[0m\u001b[1;32m    468\u001b[0m         \u001b[0;31m# have first part already, only loop while more to receive\u001b[0m\u001b[0;34m\u001b[0m\u001b[0;34m\u001b[0m\u001b[0m\n",
      "\u001b[0;32mzmq/backend/cython/socket.pyx\u001b[0m in \u001b[0;36mzmq.backend.cython.socket.Socket.recv\u001b[0;34m()\u001b[0m\n",
      "\u001b[0;32mzmq/backend/cython/socket.pyx\u001b[0m in \u001b[0;36mzmq.backend.cython.socket.Socket.recv\u001b[0;34m()\u001b[0m\n",
      "\u001b[0;32mzmq/backend/cython/socket.pyx\u001b[0m in \u001b[0;36mzmq.backend.cython.socket._recv_copy\u001b[0;34m()\u001b[0m\n",
      "\u001b[0;32m~/miniconda3/envs/av/lib/python3.6/site-packages/zmq/backend/cython/checkrc.pxd\u001b[0m in \u001b[0;36mzmq.backend.cython.checkrc._check_rc\u001b[0;34m()\u001b[0m\n",
      "\u001b[0;31mKeyboardInterrupt\u001b[0m: ",
      "\nDuring handling of the above exception, another exception occurred:\n",
      "\u001b[0;31mKeyboardInterrupt\u001b[0m                         Traceback (most recent call last)",
      "\u001b[0;32m<ipython-input-26-425fd712de3c>\u001b[0m in \u001b[0;36m<module>\u001b[0;34m()\u001b[0m\n\u001b[0;32m----> 1\u001b[0;31m \u001b[0mplay\u001b[0m\u001b[0;34m(\u001b[0m\u001b[0;34m)\u001b[0m\u001b[0;34m\u001b[0m\u001b[0m\n\u001b[0m",
      "\u001b[0;32m<ipython-input-25-b2fae3aa404f>\u001b[0m in \u001b[0;36mplay\u001b[0;34m()\u001b[0m\n\u001b[1;32m     19\u001b[0m         \u001b[0mnot_guessed\u001b[0m \u001b[0;34m=\u001b[0m \u001b[0;32mTrue\u001b[0m\u001b[0;34m\u001b[0m\u001b[0m\n\u001b[1;32m     20\u001b[0m         \u001b[0;32mwhile\u001b[0m \u001b[0mnot_guessed\u001b[0m\u001b[0;34m:\u001b[0m\u001b[0;34m\u001b[0m\u001b[0m\n\u001b[0;32m---> 21\u001b[0;31m             \u001b[0mletter\u001b[0m \u001b[0;34m=\u001b[0m \u001b[0minput\u001b[0m\u001b[0;34m(\u001b[0m\u001b[0;34m\"Enter a letter from movie: \"\u001b[0m\u001b[0;34m)\u001b[0m\u001b[0;34m\u001b[0m\u001b[0m\n\u001b[0m\u001b[1;32m     22\u001b[0m             \u001b[0;32mif\u001b[0m \u001b[0mletter\u001b[0m \u001b[0;32min\u001b[0m \u001b[0mpicked_movie\u001b[0m\u001b[0;34m:\u001b[0m\u001b[0;34m\u001b[0m\u001b[0m\n\u001b[1;32m     23\u001b[0m                 \u001b[0mmodified_qn\u001b[0m \u001b[0;34m=\u001b[0m \u001b[0munlock\u001b[0m\u001b[0;34m(\u001b[0m\u001b[0mmodified_qn\u001b[0m\u001b[0;34m,\u001b[0m \u001b[0mpicked_movie\u001b[0m\u001b[0;34m,\u001b[0m \u001b[0mletter\u001b[0m\u001b[0;34m)\u001b[0m\u001b[0;34m\u001b[0m\u001b[0m\n",
      "\u001b[0;32m~/miniconda3/envs/av/lib/python3.6/site-packages/ipykernel/kernelbase.py\u001b[0m in \u001b[0;36mraw_input\u001b[0;34m(self, prompt)\u001b[0m\n\u001b[1;32m    702\u001b[0m             \u001b[0mself\u001b[0m\u001b[0;34m.\u001b[0m\u001b[0m_parent_ident\u001b[0m\u001b[0;34m,\u001b[0m\u001b[0;34m\u001b[0m\u001b[0m\n\u001b[1;32m    703\u001b[0m             \u001b[0mself\u001b[0m\u001b[0;34m.\u001b[0m\u001b[0m_parent_header\u001b[0m\u001b[0;34m,\u001b[0m\u001b[0;34m\u001b[0m\u001b[0m\n\u001b[0;32m--> 704\u001b[0;31m             \u001b[0mpassword\u001b[0m\u001b[0;34m=\u001b[0m\u001b[0;32mFalse\u001b[0m\u001b[0;34m,\u001b[0m\u001b[0;34m\u001b[0m\u001b[0m\n\u001b[0m\u001b[1;32m    705\u001b[0m         )\n\u001b[1;32m    706\u001b[0m \u001b[0;34m\u001b[0m\u001b[0m\n",
      "\u001b[0;32m~/miniconda3/envs/av/lib/python3.6/site-packages/ipykernel/kernelbase.py\u001b[0m in \u001b[0;36m_input_request\u001b[0;34m(self, prompt, ident, parent, password)\u001b[0m\n\u001b[1;32m    732\u001b[0m             \u001b[0;32mexcept\u001b[0m \u001b[0mKeyboardInterrupt\u001b[0m\u001b[0;34m:\u001b[0m\u001b[0;34m\u001b[0m\u001b[0m\n\u001b[1;32m    733\u001b[0m                 \u001b[0;31m# re-raise KeyboardInterrupt, to truncate traceback\u001b[0m\u001b[0;34m\u001b[0m\u001b[0;34m\u001b[0m\u001b[0m\n\u001b[0;32m--> 734\u001b[0;31m                 \u001b[0;32mraise\u001b[0m \u001b[0mKeyboardInterrupt\u001b[0m\u001b[0;34m\u001b[0m\u001b[0m\n\u001b[0m\u001b[1;32m    735\u001b[0m             \u001b[0;32melse\u001b[0m\u001b[0;34m:\u001b[0m\u001b[0;34m\u001b[0m\u001b[0m\n\u001b[1;32m    736\u001b[0m                 \u001b[0;32mbreak\u001b[0m\u001b[0;34m\u001b[0m\u001b[0m\n",
      "\u001b[0;31mKeyboardInterrupt\u001b[0m: "
     ]
    }
   ],
   "source": [
    "play()"
   ]
  },
  {
   "cell_type": "code",
   "execution_count": null,
   "metadata": {},
   "outputs": [],
   "source": []
  }
 ],
 "metadata": {
  "kernelspec": {
   "display_name": "Python 3",
   "language": "python",
   "name": "python3"
  },
  "language_info": {
   "codemirror_mode": {
    "name": "ipython",
    "version": 3
   },
   "file_extension": ".py",
   "mimetype": "text/x-python",
   "name": "python",
   "nbconvert_exporter": "python",
   "pygments_lexer": "ipython3",
   "version": "3.6.0"
  }
 },
 "nbformat": 4,
 "nbformat_minor": 2
}
