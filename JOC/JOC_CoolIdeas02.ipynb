{
 "cells": [
  {
   "cell_type": "markdown",
   "metadata": {},
   "source": [
    "# Dobble Game: Spot the Similarity"
   ]
  },
  {
   "cell_type": "markdown",
   "metadata": {},
   "source": [
    "## Rules:\n",
    "- There are a set of cards, each having a definite number of unique symbols\n",
    "- Any two cards from the set have exactly 1 symbol in common\n",
    "- 2 cards are picked at random and shown to the user, the user has to spot the difference."
   ]
  },
  {
   "cell_type": "markdown",
   "metadata": {},
   "source": [
    "* We will implement the procedure to generate 2 cards for the game"
   ]
  },
  {
   "cell_type": "code",
   "execution_count": 18,
   "metadata": {},
   "outputs": [],
   "source": [
    "import string\n",
    "import random\n",
    "def generate_cards(n):\n",
    "    symbols = list(string.ascii_letters)\n",
    "    card1 = [0]*n\n",
    "    card2 = [0]*n\n",
    "\n",
    "    samesymbol = random.choice(symbols)\n",
    "    symbols.remove(samesymbol)\n",
    "\n",
    "    pos1 = random.randint(0,n-1)\n",
    "    pos2 = random.randint(0,n-1)\n",
    "    if pos1==pos2:\n",
    "        card1[pos1] = samesymbol\n",
    "        card2[pos2] = samesymbol\n",
    "    else:\n",
    "        card1[pos1] = samesymbol\n",
    "        card2[pos2] = samesymbol\n",
    "        card1[pos2] = random.choice(symbols)\n",
    "        symbols.remove(card1[pos2])\n",
    "        card2[pos1] = random.choice(symbols)\n",
    "        symbols.remove(card2[pos1])\n",
    "    i=0\n",
    "    while(i < n):\n",
    "        if i != pos1 and i != pos2:\n",
    "            alphabet1 = random.choice(symbols)\n",
    "            symbols.remove(alphabet1)\n",
    "            alphabet2 = random.choice(symbols)\n",
    "            symbols.remove(alphabet2)\n",
    "            card1[i] = alphabet1\n",
    "            card2[i] = alphabet2\n",
    "        i += 1\n",
    "    return card1, card2\n",
    "    \n"
   ]
  },
  {
   "cell_type": "code",
   "execution_count": 16,
   "metadata": {},
   "outputs": [],
   "source": [
    "def find_simiarity(card1, card2):\n",
    "    i = j = 0\n",
    "    card1 = sorted(card1)\n",
    "    card2 = sorted(card2)\n",
    "    while(i < len(card1) and j < len(card2)):\n",
    "        if card1[i] == card1[j]:\n",
    "            return card1[i]\n",
    "        elif card1[i] < card1[j]:\n",
    "            i += 1\n",
    "        else:\n",
    "            j += 1\n",
    "        return -1    \n",
    "    "
   ]
  },
  {
   "cell_type": "code",
   "execution_count": 23,
   "metadata": {},
   "outputs": [
    {
     "name": "stdout",
     "output_type": "stream",
     "text": [
      "['U', 'z', 'F', 'Q'] ['c', 'X', 'Q', 'H']\n"
     ]
    }
   ],
   "source": [
    "card1, card2 = generate_cards(4)\n",
    "print(card1, card2)"
   ]
  },
  {
   "cell_type": "code",
   "execution_count": 24,
   "metadata": {},
   "outputs": [
    {
     "data": {
      "text/plain": [
       "'F'"
      ]
     },
     "execution_count": 24,
     "metadata": {},
     "output_type": "execute_result"
    }
   ],
   "source": [
    "find_simiarity(card1, card2)"
   ]
  },
  {
   "cell_type": "markdown",
   "metadata": {},
   "source": [
    "# Birthday Paradox"
   ]
  },
  {
   "cell_type": "markdown",
   "metadata": {},
   "source": [
    "- If you pick 8 peole randomly, and as their Day of Birth (i.e Monday, Tuesday, etc.), it is guaranteed that at least 2 will have the same day (since only 7 possibilities.\n",
    "- Similarly if we pick random people and ask their DDMM of birth (eg.28-08, 01-02, etc.), in how many count can we guarantee that there will be repitition ?\n",
    "- more than 366 ? (since those are max number of possibilities)\n",
    "- Well, if you conduct this experiment on 40 - 50 people, you will certainly see repitition. Surprised !\n",
    "- This is called **Birthday Paradox**"
   ]
  },
  {
   "cell_type": "code",
   "execution_count": null,
   "metadata": {},
   "outputs": [],
   "source": []
  }
 ],
 "metadata": {
  "kernelspec": {
   "display_name": "Python 3",
   "language": "python",
   "name": "python3"
  },
  "language_info": {
   "codemirror_mode": {
    "name": "ipython",
    "version": 3
   },
   "file_extension": ".py",
   "mimetype": "text/x-python",
   "name": "python",
   "nbconvert_exporter": "python",
   "pygments_lexer": "ipython3",
   "version": "3.6.0"
  }
 },
 "nbformat": 4,
 "nbformat_minor": 2
}
