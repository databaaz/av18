{
 "cells": [
  {
   "cell_type": "markdown",
   "metadata": {},
   "source": [
    "# Introduction"
   ]
  },
  {
   "cell_type": "markdown",
   "metadata": {},
   "source": [
    "- The 'History Effect': makes people interpret outcome as a result of some variable, when actually some other variable (here, passage of time) is responsible. eg. icecream sales & advertisements in summer\n",
    "- The 'third variable proble,': A third variable causes 2 different situations, but people erroneously think there is a causal relation between the two primary variables. eg. increased churched & increased crimes.\n",
    "- Incomplete information disables us to understand the impact of statistics. eg. Interracial Marriages - 75% more than 25 years ago. Societal acceptability increased ?\n",
    "\n",
    "### Statistics - Not just facts and figures:\n",
    "- They're techniques and procedures of analysing, interpreting, displaying and making decisions based on data.\n",
    "\n",
    "### Applications:\n",
    "1. [10 Key areas where statistics is important](https://medium.com/@john_marsh7/10-awesome-reasons-why-statistics-are-important-96b87e283640)\n",
    "2. [How do data scientists use statistics?](https://www.quora.com/How-do-data-scientists-use-statistics)"
   ]
  },
  {
   "cell_type": "markdown",
   "metadata": {},
   "source": [
    "## Descriptive Statistics"
   ]
  },
  {
   "cell_type": "markdown",
   "metadata": {},
   "source": [
    " - They're numbers that are used to summarize and describe data.\n",
    " - Descriptive statistics are just descriptive. They do not involve generalizing beyond the data at hand. That is the job of 'inferential statistics'"
   ]
  },
  {
   "cell_type": "code",
   "execution_count": null,
   "metadata": {},
   "outputs": [],
   "source": []
  },
  {
   "cell_type": "code",
   "execution_count": null,
   "metadata": {},
   "outputs": [],
   "source": []
  },
  {
   "cell_type": "code",
   "execution_count": null,
   "metadata": {},
   "outputs": [],
   "source": []
  },
  {
   "cell_type": "code",
   "execution_count": null,
   "metadata": {},
   "outputs": [],
   "source": []
  }
 ],
 "metadata": {
  "kernelspec": {
   "display_name": "Python 3",
   "language": "python",
   "name": "python3"
  },
  "language_info": {
   "codemirror_mode": {
    "name": "ipython",
    "version": 3
   },
   "file_extension": ".py",
   "mimetype": "text/x-python",
   "name": "python",
   "nbconvert_exporter": "python",
   "pygments_lexer": "ipython3",
   "version": "3.6.6"
  }
 },
 "nbformat": 4,
 "nbformat_minor": 2
}
