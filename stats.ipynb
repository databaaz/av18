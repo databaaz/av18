{
 "cells": [
  {
   "cell_type": "markdown",
   "metadata": {},
   "source": [
    "# Introduction"
   ]
  },
  {
   "cell_type": "markdown",
   "metadata": {},
   "source": [
    "- The 'History Effect': makes people interpret outcome as a result of some variable, when actually some other variable (here, passage of time) is responsible. eg. icecream sales & advertisements in summer\n",
    "- The 'third variable proble,': A third variable causes 2 different situations, but people erroneously think there is a causal relation between the two primary variables. eg. increased churched & increased crimes.\n",
    "- Incomplete information disables us to understand the impact of statistics. eg. Interracial Marriages - 75% more than 25 years ago. Societal acceptability increased ?\n",
    "\n",
    "### Statistics - Not just facts and figures:\n",
    "- They're techniques and procedures of analysing, interpreting, displaying and making decisions based on data.\n",
    "\n",
    "### Applications:\n",
    "1. [10 Key areas where statistics is important](https://medium.com/@john_marsh7/10-awesome-reasons-why-statistics-are-important-96b87e283640)\n",
    "2. [How do data scientists use statistics?](https://www.quora.com/How-do-data-scientists-use-statistics)"
   ]
  },
  {
   "cell_type": "markdown",
   "metadata": {},
   "source": [
    "## Descriptive Statistics"
   ]
  },
  {
   "cell_type": "markdown",
   "metadata": {},
   "source": [
    " - They're numbers that are used to summarize and describe data.\n",
    " - Descriptive statistics are just descriptive. They do not involve generalizing beyond the data at hand. That is the job of 'inferential statistics'"
   ]
  },
  {
   "cell_type": "markdown",
   "metadata": {},
   "source": [
    "## Design Experiments"
   ]
  },
  {
   "cell_type": "markdown",
   "metadata": {},
   "source": [
    "- To perform analysis of data and summarize it - need to get the data first.\n",
    "- creating an unbiased and proper environment for collecting data is equally important.\n",
    "- good data leads to good and meaningful results."
   ]
  },
  {
   "cell_type": "markdown",
   "metadata": {},
   "source": [
    "### Example experiment - Test the effect of a pill on haemoglobin A1C levels of diabetic people\n",
    "- **Explanatory Variable** - whether or not taking the pill\n",
    "- **Response Variable** - A1C levels \n",
    "1. The test group should be divided into 2 groups - control group and treatment group, to ensure that A1C levels do not improve just because of some random chance\n",
    "2. If we just give the pill to treatment group and not to the control group, it may have a psychological effect on the bodies or may make them act in a healthy/unhealthy way. So we will administer a 'placebo' on control group and will not let either group know which medicine they're taking - **Blind Experiment**\n",
    "3. We will also make sure the person who administers the pills to both groups doesn't know which one is a placebo and which one is an actual medicine, so that he doesn't give out in any way to either group information about the pills - **Double Blind Experiment**\n",
    "\n",
    "- Dividing the test people into the 2 groups should be done randomly.\n",
    "1. To avoid any gender bias or age bias or region bias or bias by dietary habits in our distribution , we can do block design (stratified sampling) i.e divide the 100 people into men & women and randomly put half of each in both the groups. (there could still be bias due to other lurking variables)\n",
    "\n",
    "\n",
    "- If there is an improvement in A1C levels, you have to decide whether it happened due to random chance or whether it was unlikely to happen due to random chance\n"
   ]
  },
  {
   "cell_type": "markdown",
   "metadata": {},
   "source": [
    "### Experiment Replication\n",
    "- It may so happen that there were other lurking variables that your experiment did not adjust for, or maybe you got False Positives/ False negatives due to random chance.\n",
    "- So you should **document your experiment** well so that anybody else can replicate it exactly to reinforce the true results that you get. This is true for any experiment you perform."
   ]
  },
  {
   "cell_type": "markdown",
   "metadata": {},
   "source": [
    "## Visualizing Data\n",
    "***Focus on the important information from a cluster of information.***"
   ]
  },
  {
   "cell_type": "markdown",
   "metadata": {},
   "source": [
    "### Aims of Visualization:\n",
    "Maximize how **quickly** and **accurately** people decode information from graphics\n",
    "1. Preattentive cognition - Automatic effort by our brain to understand things around.\n",
    "2. Accuracy - Maximize the accuracy with whicih people interpret your visualization.  \n",
    "   eg.Bar Chart over Pie Chart."
   ]
  },
  {
   "cell_type": "markdown",
   "metadata": {},
   "source": [
    "### Data STorytelling\n",
    "- Improv Comedy\n",
    "- Connect with people's experiences\n",
    "- Focus on one idea - Try to convey that one idea\n",
    "- Keep it simple - very simple ideas\n",
    "- Explore the things you know the most\n",
    "- Make An Impact\n"
   ]
  },
  {
   "cell_type": "code",
   "execution_count": null,
   "metadata": {},
   "outputs": [],
   "source": []
  }
 ],
 "metadata": {
  "kernelspec": {
   "display_name": "Python 3",
   "language": "python",
   "name": "python3"
  },
  "language_info": {
   "codemirror_mode": {
    "name": "ipython",
    "version": 3
   },
   "file_extension": ".py",
   "mimetype": "text/x-python",
   "name": "python",
   "nbconvert_exporter": "python",
   "pygments_lexer": "ipython3",
   "version": "3.6.6"
  }
 },
 "nbformat": 4,
 "nbformat_minor": 2
}
