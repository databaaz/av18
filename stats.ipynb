{
 "cells": [
  {
   "cell_type": "markdown",
   "metadata": {},
   "source": [
    "# Introduction"
   ]
  },
  {
   "cell_type": "markdown",
   "metadata": {},
   "source": [
    "- The 'History Effect': makes people interpret outcome as a result of some variable, when actually some other variable (here, passage of time) is responsible. eg. icecream sales & advertisements in summer\n",
    "- The 'third variable problem': A third variable causes 2 different situations, but people erroneously think there is a causal relation between the two primary variables. eg. increased churches & increased crimes.\n",
    "- Incomplete information disables us to understand the impact of statistics. eg. Interracial Marriages - 75% more than 25 years ago. Societal acceptability increased ?\n",
    "\n",
    "# Statistics - Not just facts and figures:\n",
    "- They're techniques and procedures of analysing, interpreting, displaying and making decisions based on data.\n",
    "\n",
    "# Applications:\n",
    "1. [10 Key areas where statistics is important](https://medium.com/@john_marsh7/10-awesome-reasons-why-statistics-are-important-96b87e283640)\n",
    "2. [How do data scientists use statistics?](https://www.quora.com/How-do-data-scientists-use-statistics)"
   ]
  },
  {
   "cell_type": "markdown",
   "metadata": {},
   "source": [
    "# Descriptive Statistics"
   ]
  },
  {
   "cell_type": "markdown",
   "metadata": {},
   "source": [
    " - They're numbers that are used to summarize and describe data.\n",
    " - Descriptive statistics are just descriptive. They do not involve generalizing beyond the data at hand. That is the job of 'inferential statistics'"
   ]
  },
  {
   "cell_type": "markdown",
   "metadata": {},
   "source": [
    "## Design Experiments"
   ]
  },
  {
   "cell_type": "markdown",
   "metadata": {},
   "source": [
    "- To perform analysis of data and summarize it - need to get the data first.\n",
    "- creating an unbiased and proper environment for collecting data is equally important.\n",
    "- good data leads to good and meaningful results."
   ]
  },
  {
   "cell_type": "markdown",
   "metadata": {},
   "source": [
    "## Example experiment - Test the effect of a pill on haemoglobin A1C levels of diabetic people\n",
    "- **Explanatory Variable** - whether or not taking the pill\n",
    "- **Response Variable** - A1C levels \n",
    "    1. The test group should be divided into 2 groups - control group and treatment group, to ensure that A1C levels do not improve just because of some random chance\n",
    "    2. If we just give the pill to treatment group and not to the control group, it may have a psychological effect on the bodies or may make them act in a healthy/unhealthy way. So we will administer a 'placebo' on control group and will not let either group know which medicine they're taking - **Blind Experiment**\n",
    "    3. We will also make sure the person who administers the pills to both groups doesn't know which one is a placebo and which one is an actual medicine, so that he doesn't give out in any way to either group information about the pills - **Double Blind Experiment**\n",
    "\n",
    "- Dividing the test people into the 2 groups should be done randomly.\n",
    "    1. To avoid any gender bias or age bias or region bias or bias by dietary habits in our distribution , we can do block design (stratified sampling) i.e divide the 100 people into men & women and randomly put half of each in both the groups. (there could still be bias due to other lurking variables)\n",
    "\n",
    "\n",
    "- If there is an improvement in A1C levels, you have to decide whether it happened due to random chance or whether it was unlikely to happen due to random chance\n"
   ]
  },
  {
   "cell_type": "markdown",
   "metadata": {},
   "source": [
    "## Experiment Replication\n",
    "- It may so happen that there were other lurking variables that your experiment did not adjust for, or maybe you got False Positives/ False negatives due to random chance.\n",
    "- So you should **document your experiment** well so that anybody else can replicate it exactly to reinforce the true results that you get. This is true for any experiment you perform."
   ]
  },
  {
   "cell_type": "markdown",
   "metadata": {},
   "source": [
    "## Visualizing Data\n",
    "***Focus on the important information from a cluster of information.***"
   ]
  },
  {
   "cell_type": "markdown",
   "metadata": {},
   "source": [
    "### Aims of Visualization:\n",
    "Maximize how **quickly** and **accurately** people decode information from graphics\n",
    "1. Preattentive cognition - Automatic effort by our brain to understand things around.\n",
    "2. Accuracy - Maximize the accuracy with which people interpret your visualization.  \n",
    "   eg.Bar Chart over Pie Chart."
   ]
  },
  {
   "cell_type": "markdown",
   "metadata": {},
   "source": [
    "### Data Storytelling\n",
    "- Improv Comedy\n",
    "- Connect with people's experiences\n",
    "- Focus on one idea - Try to convey that one idea\n",
    "- Keep it simple - very simple ideas\n",
    "- Explore the things you know the most\n",
    "- Make An Impact\n"
   ]
  },
  {
   "cell_type": "markdown",
   "metadata": {},
   "source": [
    "## Measure of Central Tendency\n",
    "\n",
    "'Average' in statistics is not just similar to the term 'average' we use in daily lives.  \n",
    "- Average - 'typical' or 'middle' value --> Central Tendency\n",
    "    1. **Arithmetic Mean** :\n",
    "    \\begin{equation}\\label{eq:}\n",
    "\\frac{\\sum_{i=1}^n x_i}{n}\n",
    "\\end{equation}\n",
    "    2. **Median**: Middle value in ordered sequence\n",
    "    3. **Mode**: Single most common (typical) number\n",
    "- The most commonly used is Average. Median is used when we have such numbers that could have skewed the arithmetic mean. Mode can also be used in such situations, especially when a single number is occuring way too frequently."
   ]
  },
  {
   "cell_type": "markdown",
   "metadata": {},
   "source": [
    "## Dispersion/ Variability\n",
    "- All descriptive statistics is about summarizing data, using diagrams and some indicators.  \n",
    "- One such indicator, Mean just gives one aspect of a dataset. Two datasets may be different but may have exactly same mean. To get an idea of how spread data is, we use various measures of dispersion. \n",
    "- We should also be interested in the **Diversity of data**. Because a group of data maybe fairly similar, or quite different. Merely looking at an average, we will miss such differences.  \n",
    "**eg. Daily working hours of 2 people:** One may have quite varying working hours, while the other may have consistent ones, while both having same mean working hours. This tells us more about the differing working conditions of 2 people, which would not be indicated by mean"
   ]
  },
  {
   "cell_type": "markdown",
   "metadata": {},
   "source": [
    "## Measures of Variablity\n",
    "- Following measures of variability are used to express how spreadout the data is\n",
    "- Which measure is most appropriate depends on the situation, and on what we are trying to assess using that measure.\n",
    "### 1. Range:\n",
    "\\begin{equation*}\n",
    "  R = X_{max} - X_{min} \n",
    "\\end{equation*}\n",
    "\n",
    "- Range is not a perfect measure of variablility, as it considers only largest and smallest values and nothing in between. As a result, **outliers** have a serious impact on the measure, while the data in between doesn't.\n",
    "- So, we need a measure that considers all the values of data.\n",
    "- The deviations from mean can be one such measure, as 'being spread out' can also mean 'deviating from average'\n",
    "\n",
    "### 2. Mean Absolute Deviation:\n",
    "\\begin{equation*}\n",
    "MAD = \\frac{\\sum_{i=1}^n |x_i - \\bar{x}|}{n}\n",
    "\\end{equation*}\n",
    "\n",
    "- Using absolute values in calculus is inconvenient, as it requires case-by-case analysis.\n",
    "- So we use squaring operation to make positive those values that were being cancelled out because of deviations from mean\n",
    "\n",
    "### 3. Variance:\n",
    "\\begin{equation*}\n",
    "\\sigma^2 = \\frac{1}{n}\\sum_{i=1}^n (x_i - \\bar{x})^2\n",
    "\\end{equation*}\n",
    "- This still doesn't represent the actual deviation from mean.\n",
    "- Since we have **squared the differences**, variations will normally be out of proportion in relation to the actual data values themselves.\n",
    "- **That is why it is actually difficult to depict the actual meaning of variance**\n",
    "- Hence we take square root of the variance\n",
    "\n",
    "### 4. Standard Deviation:\n",
    "\\begin{equation*}\n",
    "\\sigma = \\sqrt{\\sigma^2} = \\sqrt{\\frac{1}{n}\\sum_{i=1}^n (x_i - \\bar{x})^2}\n",
    "\\end{equation*}\n",
    "- 2 datasets with same standard deviation may have different practical implications.  \n",
    "- For eg. S.D. of 12k USD around mean of USD 18k(A) is different than S.D. of USD 12k around mean of USD 200k(B).\n",
    "- We should therefore always look at both mean and standard deviation, or we can combine the two.\n",
    "- Direct formula: \\begin{equation*}SD = \\sum x^2/n−(\\sum x/n)^2\\end{equation*}\n",
    "\n",
    "### 5. Coefficient of Variance:\n",
    "\\begin{equation*}\n",
    "c = \\frac{1}{\\bar{x}}\\sigma = \\frac{1}{\\bar{x}}\\sqrt{\\frac{1}{n}\\sum_{i=1}^n (x_i - \\bar{x})^2}\n",
    "\\end{equation*}\n",
    "\n",
    "- If c = 0.06 for A, and c = 0.66 for B, it means that the average variablity of revenue in A is 6% of the mean, while that in B is 66% of it's mean\n",
    "- Therefore coefficient of variation is also a simple **risk measure**"
   ]
  }
 ],
 "metadata": {
  "kernelspec": {
   "display_name": "Python 3",
   "language": "python",
   "name": "python3"
  },
  "language_info": {
   "codemirror_mode": {
    "name": "ipython",
    "version": 3
   },
   "file_extension": ".py",
   "mimetype": "text/x-python",
   "name": "python",
   "nbconvert_exporter": "python",
   "pygments_lexer": "ipython3",
   "version": "3.6.0"
  },
  "latex_envs": {
   "LaTeX_envs_menu_present": true,
   "autoclose": false,
   "autocomplete": true,
   "bibliofile": "biblio.bib",
   "cite_by": "apalike",
   "current_citInitial": 1,
   "eqLabelWithNumbers": true,
   "eqNumInitial": 1,
   "hotkeys": {
    "equation": "Ctrl-E",
    "itemize": "Ctrl-I"
   },
   "labels_anchors": false,
   "latex_user_defs": false,
   "report_style_numbering": false,
   "user_envs_cfg": false
  }
 },
 "nbformat": 4,
 "nbformat_minor": 2
}
