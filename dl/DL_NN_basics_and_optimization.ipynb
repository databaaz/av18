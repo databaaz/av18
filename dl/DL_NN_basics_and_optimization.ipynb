{
 "cells": [
  {
   "cell_type": "markdown",
   "metadata": {},
   "source": [
    "# Neural Network basics\n",
    "- A linear regression model predicts outcome by doing some of parts(inputs), and doesn't consider interactions between the parts (eg. no. of bank transactions from age, retirement status)\n",
    "- A Neural Network captures interactions between the parts very well.\n",
    "- Deep Learning uses specially powerful neural networks, and performs exceedingly well on prediction problems.\n",
    "- Their ability to capture extremely complex interactions allows them to perform well on texts, videos, images, audios, source codes, etc.\n",
    "- The intermediate nodes in hidden layers are used to calculate functions between variables (that accounts for their interactions, and use them to predict the outcome.\n",
    "- Each node in hidden layer represents an aggregation of info from input, and contribute to model's ability to capture interactions.\n",
    "- **!** The more nodes we have, the more interactions we capture"
   ]
  },
  {
   "cell_type": "markdown",
   "metadata": {},
   "source": [
    "## Forward Propagation\n",
    "- A NN uses data to make predictions through 'forward propagation'\n",
    "- Each line(connection) coming out of a node has a **weight**, that indiciates how strongly that node effects the value of the hidden node at the end of it.\n",
    "- These weights are the parameters we train or change when we fit our neural network to data.\n",
    "- Multiply-Add process (dot product)"
   ]
  },
  {
   "cell_type": "markdown",
   "metadata": {},
   "source": [
    "<img src=\"files/forward_prop.png\">"
   ]
  },
  {
   "cell_type": "markdown",
   "metadata": {},
   "source": [
    "## Activation Functions\n",
    "- For NN's to achieve their max predictive power, we use activation functions in hidden layers.\n",
    "- Allows model to capture non-linearities\n",
    "- Just Multiply-Add process is not enough\n",
    "- If the relationships in data aren't straight line relationships, we need activation functions that capture non-linearities.\n",
    "- Eg. Non-linearities capture pattens like how going from 0 to 1 child may impact your banking transactions differently than going from 3 children to 4.\n",
    "- Activation function is applied to a value coming into the node, to produce node output.\n",
    "- Traditionally, an S-shaped function **tanh** has been a popular choice for activation function.\n"
   ]
  },
  {
   "cell_type": "markdown",
   "metadata": {},
   "source": [
    "<img src=\"files/forward_activation.png\">"
   ]
  },
  {
   "cell_type": "markdown",
   "metadata": {},
   "source": [
    "- Today the industry standard is **ReLU (Rectified Linear Unit) function.**\n",
    "- It has 2 linear units, but is surprisingly powerful when composed together over successful hidden layers.\n",
    "- It returns 0 for negative inputs, and same as input otherwise.\n"
   ]
  },
  {
   "cell_type": "markdown",
   "metadata": {},
   "source": [
    "## Deeper Networks\n",
    "- Till few years ago, 15 hidden layers were state of the art, today they can be scaled up to 1000s of layers.\n",
    "- The same forward propation process is iterated over subsequent layers.\n"
   ]
  },
  {
   "cell_type": "markdown",
   "metadata": {},
   "source": [
    "<img src=\"files/deeper_network.png\" >"
   ]
  },
  {
   "cell_type": "markdown",
   "metadata": {},
   "source": [
    "- These deep networks internally build **representations of patterns in the data** (that are useful for making predictions.\n",
    "- As a result they find increasingly complex patterns as we go through successive hidden layers of the network.\n",
    "- This way neural networks partially replace the need for feature engineering (manually creating better predictive features)\n",
    "- Deep Learning is also called **representation learning** because subsequent layers build increasingly sophisticated repsresentations of raw data, until we get to a stage where we can make predictions.\n",
    "- Eg. **Image Classigication**\n",
    "    <img src=\"files/image_classifier.png\">"
   ]
  },
  {
   "cell_type": "markdown",
   "metadata": {},
   "source": [
    "- The earlier layers build patterns that are conceptually simple.\n",
    "- A simple interaction would look at groups of nearby pixels and find diagonal, horizontal, vertical lines, blurry areas etc.\n",
    "- Subsequent layers combine these informations to discoverlarger patterns like squares or other geometric shape.\n",
    "- Later layers then combine these shapes to identify face/car/etc.  \n",
    "  \n",
    "- Modeler doesn't need to specify those interactions, i.e. we do not tell the model to look for diagonal lines, etc.\n",
    "- When we train the model, the neural network gets weights  that find the relevant patterns to make better predictions.\n",
    "- This idea of finding increasingly complex/ abstract patterns is a recurring theme across domains/applications in DL"
   ]
  },
  {
   "cell_type": "markdown",
   "metadata": {},
   "source": [
    "# Optimizing a Neural Network with Backward Propagation"
   ]
  },
  {
   "cell_type": "markdown",
   "metadata": {},
   "source": [
    "## Need for Optimization\n",
    "- Merely having the structure of a neural network does not guarantee good predictive results.\n",
    "- We need to have a good choice of weights. If we change the weights, the output changes.\n",
    "- The error between predicted output and actual output is the loss.\n",
    "- For a single input, we may easily tweak the weights to get improved output.\n",
    "- But making accurate predictions gets **harder with multiple input points**.\n",
    "- For a given set of weights, there are many values of error - corresponding to many data point we make predictions on."
   ]
  },
  {
   "cell_type": "markdown",
   "metadata": {},
   "source": [
    "## Loss Function\n",
    "- A loss function is used to find a single value to evaluate model performance.\n",
    "- It aggregates all the errors in predictions from many data points into a single measure of model's predictive performance\n",
    "- A common loss function for regression task: mean squared error - square the difference, and take their **average** - a single score\n",
    "<img src=\"files/loss_function_gradient.png\">\n",
    "- Lower loss function value means a better model\n",
    "- **Goal:** Find weights that give lowest loss function value - We do this by **Gradient Descent** algorithms.\n"
   ]
  },
  {
   "cell_type": "markdown",
   "metadata": {},
   "source": [
    "## Gradient Descent\n",
    "\n",
    "### Analogy:\n",
    "1. Imagine you're in a pitch dark field, and want to find lowest point.\n",
    "2. Feel the ground to see how it slopes.\n",
    "3. Take a step downhill - an improvement, but not necessary the lowest point yet.\n",
    "4. Repeat until it is uphill in all directions.  \n",
    "This is roughly how gradient descent works.  \n"
   ]
  },
  {
   "cell_type": "markdown",
   "metadata": {},
   "source": [
    "- If the slope is positive:\n",
    "    * Going **opposite the slope** means going to a lower number.\n",
    "    * This can be achieved by subtracting the slope from current value of weights.\n",
    "    * But going too big a step may lead us astray.\n",
    "    * Solution: **Learning Rate**\n",
    "- **Learning Rate:**\n",
    "    - Instead of directly subtracting the slope, we multiply it by a small no. called learning rate before subtracting from the weight\n",
    "    - i.e Update each weight by subtracting **learning_rate * slope**\n",
    "- Learning rates are typically around **0.01**\n",
    "- This ensures we take smaller steps so that we can reliably move towards optimal weights."
   ]
  },
  {
   "cell_type": "markdown",
   "metadata": {},
   "source": [
    "### Calculating slope\n",
    "- To calculate slope of loss for a  weight, we need to **multiply 3 things**:\n",
    "    1. Slope of loss function w.r.t value of node we feed into (target node)\n",
    "    2. Value of node that feeds into our weight (input node)\n",
    "    3. Slope of activation function w.r.t to value we feed into\n",
    "- i.e slope = 2 * error * input\n",
    "- Eg.\n",
    "<img src=\"files/weight_gradient_example.png\">"
   ]
  },
  {
   "cell_type": "markdown",
   "metadata": {},
   "source": [
    "1. slope of loss function i.e MSE w.r.t prediction:  \n",
    "    * 2 * (Predicted value - Actual value) = 2 * Error\n",
    "    * 2 * (-4) = -8\n",
    "2. value of node we feed from = 3\n",
    "3. We don't have an activation function here, so we omit it."
   ]
  },
  {
   "cell_type": "markdown",
   "metadata": {},
   "source": [
    "- So slop of loss = -8 * 3 = -24\n",
    "- Let learning rate be 0.01\n",
    "- So new weight = current_weight - 0.01(slope) = 2 - (-0.24) = **2.24**\n",
    "\n",
    "* For multiple weights, we repeat this process separately for each weight and simultaneously update them using their respective derivates."
   ]
  },
  {
   "cell_type": "markdown",
   "metadata": {},
   "source": [
    "### Code to calculate slopes and update multiple weights\n",
    "<img src=\"files/2_input_weight_update.png \"/>"
   ]
  },
  {
   "cell_type": "code",
   "execution_count": 6,
   "metadata": {},
   "outputs": [
    {
     "name": "stdout",
     "output_type": "stream",
     "text": [
      "5\n"
     ]
    }
   ],
   "source": [
    "import numpy as np\n",
    "weights = np.array([1, 2])\n",
    "input_data = np.array([3, 4])\n",
    "target = 6\n",
    "learning_rate = 0.01\n",
    "preds = (weights * input_data).sum()\n",
    "error = preds - target\n",
    "print(error)"
   ]
  },
  {
   "cell_type": "code",
   "execution_count": 8,
   "metadata": {},
   "outputs": [
    {
     "name": "stdout",
     "output_type": "stream",
     "text": [
      "[30 40]\n"
     ]
    }
   ],
   "source": [
    "gradient = 2 * input_data * error\n",
    "print(gradient)"
   ]
  },
  {
   "cell_type": "code",
   "execution_count": 9,
   "metadata": {},
   "outputs": [
    {
     "name": "stdout",
     "output_type": "stream",
     "text": [
      "2.5\n"
     ]
    }
   ],
   "source": [
    "weights_updated = weights - learning_rate * gradient\n",
    "preds_updated = (weights_updated * input_data).sum()\n",
    "error_updated = preds_updated - target\n",
    "print(error_updated)\n"
   ]
  },
  {
   "cell_type": "markdown",
   "metadata": {},
   "source": [
    "## Multiple Updates to weights"
   ]
  },
  {
   "cell_type": "code",
   "execution_count": 13,
   "metadata": {},
   "outputs": [],
   "source": [
    "from sklearn.metrics import mean_squared_error\n",
    "import matplotlib.pyplot as plt\n",
    "import numpy as np\n",
    "def get_slope(input_data, target, weights):\n",
    "    predicted = (input_data * weights).sum()\n",
    "    error = (predicted - target)\n",
    "    slope = 2 * error * input_data\n",
    "    return slope\n",
    "\n",
    "def get_mse(input_data, target, weights):\n",
    "    predicted = (input_data * weights).sum()\n",
    "    return (predicted - target)**2\n"
   ]
  },
  {
   "cell_type": "code",
   "execution_count": 14,
   "metadata": {},
   "outputs": [],
   "source": [
    "input_data = np.array([1, 2, 3])\n",
    "weights = np.array([0,2,1])\n",
    "target = 0"
   ]
  },
  {
   "cell_type": "code",
   "execution_count": 15,
   "metadata": {},
   "outputs": [
    {
     "data": {
      "image/png": "[encoded data removed]",
      "text/plain": [
       "<matplotlib.figure.Figure at 0x7fa16dd687f0>"
      ]
     },
     "metadata": {},
     "output_type": "display_data"
    }
   ],
   "source": [
    "n_updates = 20\n",
    "mse_hist = []\n",
    "\n",
    "# Iterate over the number of updates\n",
    "for i in range(n_updates):\n",
    "    # Calculate the slope: slope\n",
    "    slope = get_slope(input_data, target, weights)\n",
    "    \n",
    "    # Update the weights: weights\n",
    "    weights = weights - 0.01 * slope\n",
    "    \n",
    "    # Calculate mse with new weights: mse\n",
    "    mse = get_mse(input_data, target, weights)\n",
    "    \n",
    "    # Append the mse to mse_hist\n",
    "    mse_hist.append(mse)\n",
    "\n",
    "# Plot the mse history\n",
    "plt.plot(mse_hist)\n",
    "plt.xlabel('Iterations')\n",
    "plt.ylabel('Mean Squared Error')\n",
    "plt.show()"
   ]
  },
  {
   "cell_type": "markdown",
   "metadata": {},
   "source": [
    "## Back Propagation\n",
    "- Used to calculate slopes in complex deeper models\n",
    "- It allows gradient descent to update all weights in NN ( by  getting gradients or slopes of all the weights)\n",
    "- While forward propagation calculates node values and predictions using weights and inputs, backward propagation uses prediction error and calculates slopes sequentially from weights closest to output layer, through the hidden layers, back to the weights coming from inputs. \n",
    "- It comes from the chain rule of calculus.\n",
    "- Don't need to memorize mathematical details, important to understand the whole process\n",
    "<img src=\"files/backprop.png\">"
   ]
  },
  {
   "cell_type": "markdown",
   "metadata": {},
   "source": [
    "## Back Propagation - Big Picture\n",
    "- We're trying to estimate the slope of loss function w.r.t each weight in our network (using prediction errors)\n",
    "- Do forward propagation first to calcuate predictions and error, and then use them to back propagate.\n",
    "- Go Back one layer at a time.\n",
    "- Gradients for weights is product of:\n",
    "    1. Node value feeding into that weight (input layer or hidden layers calculated during forward prop)\n",
    "    2. Slope of loss function w.r.t node  it feeds into (calculated in previous step of backprop)\n",
    "    3. Slope of activation function at weight's output node (For ReLU 0 or 1)\n",
    "- Need to keep track of slopes of loss function w.r.t node values - to calculate slopes of weights.\n",
    "- Slopes of node values are sum of the slopes of all weights coming out of them."
   ]
  },
  {
   "cell_type": "code",
   "execution_count": null,
   "metadata": {},
   "outputs": [],
   "source": []
  }
 ],
 "metadata": {
  "kernelspec": {
   "display_name": "Python 3",
   "language": "python",
   "name": "python3"
  },
  "language_info": {
   "codemirror_mode": {
    "name": "ipython",
    "version": 3
   },
   "file_extension": ".py",
   "mimetype": "text/x-python",
   "name": "python",
   "nbconvert_exporter": "python",
   "pygments_lexer": "ipython3",
   "version": "3.6.0"
  },
  "latex_envs": {
   "LaTeX_envs_menu_present": true,
   "autoclose": false,
   "autocomplete": true,
   "bibliofile": "biblio.bib",
   "cite_by": "apalike",
   "current_citInitial": 1,
   "eqLabelWithNumbers": true,
   "eqNumInitial": 1,
   "hotkeys": {
    "equation": "Ctrl-E",
    "itemize": "Ctrl-I"
   },
   "labels_anchors": false,
   "latex_user_defs": false,
   "report_style_numbering": false,
   "user_envs_cfg": false
  }
 },
 "nbformat": 4,
 "nbformat_minor": 2
}
